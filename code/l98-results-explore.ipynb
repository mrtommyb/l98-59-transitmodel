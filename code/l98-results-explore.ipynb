{
 "cells": [
  {
   "cell_type": "code",
   "execution_count": 1,
   "metadata": {},
   "outputs": [],
   "source": [
    "%matplotlib inline\n"
   ]
  },
  {
   "cell_type": "code",
   "execution_count": 2,
   "metadata": {},
   "outputs": [],
   "source": [
    "import numpy as np\n",
    "from astropy.io import fits\n",
    "import matplotlib.pyplot as plt\n",
    "from lightkurve import TessLightCurveFile\n",
    "from astropy.coordinates import SkyCoord\n",
    "import astropy.units as u\n",
    "import lightkurve\n",
    "import theano\n",
    "import exoplanet as xo\n",
    "import pymc3 as pm\n",
    "import theano.tensor as tt\n",
    "from astropy.stats import BoxLeastSquares\n"
   ]
  },
  {
   "cell_type": "code",
   "execution_count": 3,
   "metadata": {},
   "outputs": [
    {
     "name": "stdout",
     "output_type": "stream",
     "text": [
      "0.1.3\n",
      "1.0.4\n",
      "3.6\n"
     ]
    }
   ],
   "source": [
    "print(xo.__version__)\n",
    "print(theano.__version__)\n",
    "print(pm.__version__)"
   ]
  },
  {
   "cell_type": "code",
   "execution_count": 4,
   "metadata": {},
   "outputs": [],
   "source": [
    "target = 'l 98-59'\n",
    "tpf = lightkurve.search_targetpixelfile(target).download()"
   ]
  },
  {
   "cell_type": "code",
   "execution_count": 5,
   "metadata": {},
   "outputs": [],
   "source": [
    "texp = tpf.hdu[1].header['FRAMETIM'] * tpf.hdu[1].header[\"NUM_FRM\"]\n",
    "texp /= 60.0 * 60.0 * 24.0\n",
    "ref_time = 0.5 * (tpf.time.min() + tpf.time.max())\n",
    "flux = tpf.flux\n",
    "\n",
    "pix_mask = tpf.create_threshold_mask(threshold=3)"
   ]
  },
  {
   "cell_type": "code",
   "execution_count": 6,
   "metadata": {},
   "outputs": [],
   "source": [
    "lc = tpf.extract_aperture_photometry(aperture_mask=pix_mask, )\n",
    "lc = lc.normalize()\n",
    "lc.flux = (lc.flux - 1.0) * 1e3\n",
    "# Build the first order PLD basis\n",
    "X_pld = np.reshape(flux[:, pix_mask], (len(flux), -1))\n",
    "X_pld = X_pld / np.sum(flux[:, pix_mask], axis=-1)[:, None]\n",
    "\n",
    "# Build the second order PLD basis and run PCA to reduce the number of dimensions\n",
    "X2_pld = np.reshape(X_pld[:, None, :] * X_pld[:, :, None], (len(flux), -1))\n",
    "U, _, _ = np.linalg.svd(X2_pld, full_matrices=False)\n",
    "X2_pld = U[:, :X_pld.shape[1]]\n",
    "\n",
    "# Construct the design matrix and fit for the PLD model\n",
    "X_pld = np.concatenate((np.ones((len(flux), 1)), X_pld, X2_pld), axis=-1)\n",
    "XTX = np.dot(X_pld.T, X_pld)\n",
    "w_pld = np.linalg.solve(XTX, np.dot(X_pld.T, lc.flux))\n",
    "pld_flux = np.dot(X_pld, w_pld)\n"
   ]
  },
  {
   "cell_type": "code",
   "execution_count": 7,
   "metadata": {},
   "outputs": [],
   "source": [
    "period_grid = np.exp(np.linspace(np.log(0.1), np.log(15), 50000))\n",
    "duration = 0.03\n",
    "\n",
    "bls_periods = np.zeros([3])\n",
    "bls_t0s = np.zeros([3])\n",
    "bls_depths = np.zeros([3])\n",
    "time = lc.time - ref_time\n",
    "\n",
    "# planet 1\n",
    "bls = BoxLeastSquares(time, lc.flux - pld_flux)\n",
    "bls_power = bls.power(period_grid, duration, oversample=20)\n",
    "\n",
    "bls_power0 = bls_power\n",
    "\n",
    "# Save the highest peak as the planet candidate\n",
    "index = np.argmax(bls_power.power)\n",
    "bls_period = bls_power.period[index]\n",
    "bls_t0 = bls_power.transit_time[index]\n",
    "bls_depth = bls_power.depth[index]\n",
    "transit_mask = bls.transit_mask(time, bls_period, 3*duration, bls_t0)\n",
    "\n",
    "bls_periods[0] = bls_period\n",
    "bls_t0s[0] = bls_t0\n",
    "bls_depths[0] = bls_depth\n",
    "\n",
    "# planet 2\n",
    "bls = BoxLeastSquares(time[~transit_mask], lc.flux[~transit_mask] - pld_flux[~transit_mask])\n",
    "bls_power = bls.power(period_grid, duration, oversample=20)\n",
    "\n",
    "# Save the highest peak as the planet candidate\n",
    "index = np.argmax(bls_power.power)\n",
    "bls_period = bls_power.period[index]\n",
    "bls_t0 = bls_power.transit_time[index]\n",
    "bls_depth = bls_power.depth[index]\n",
    "transit_mask = np.logical_or((transit_mask), (bls.transit_mask(time, bls_period, 3*duration, bls_t0)))\n",
    "\n",
    "bls_periods[1] = bls_period\n",
    "bls_t0s[1] = bls_t0\n",
    "bls_depths[1] = bls_depth\n",
    "\n",
    "# planet 3\n",
    "bls = BoxLeastSquares(time[~transit_mask], lc.flux[~transit_mask] - pld_flux[~transit_mask])\n",
    "bls_power = bls.power(period_grid, duration, oversample=20)\n",
    "\n",
    "# Save the highest peak as the planet candidate\n",
    "index = np.argmax(bls_power.power)\n",
    "bls_period = bls_power.period[index]\n",
    "bls_t0 = bls_power.transit_time[index]\n",
    "bls_depth = bls_power.depth[index]\n",
    "transit_mask = np.logical_or((transit_mask), (bls.transit_mask(time, bls_period, 3*duration, bls_t0)))\n",
    "\n",
    "bls_periods[2] = bls_period\n",
    "bls_t0s[2] = bls_t0\n",
    "bls_depths[2] = bls_depth"
   ]
  },
  {
   "cell_type": "code",
   "execution_count": 8,
   "metadata": {},
   "outputs": [],
   "source": [
    "m = ~transit_mask\n",
    "XTX = np.dot(X_pld[m].T, X_pld[m])\n",
    "w_pld = np.linalg.solve(XTX, np.dot(X_pld[m].T, lc.flux[m]))\n",
    "pld_flux = np.dot(X_pld, w_pld)\n",
    "\n",
    "x = np.ascontiguousarray(lc.time-ref_time, dtype=np.float64)\n",
    "y = np.ascontiguousarray(lc.flux-pld_flux, dtype=np.float64)"
   ]
  },
  {
   "cell_type": "code",
   "execution_count": 9,
   "metadata": {},
   "outputs": [
    {
     "name": "stderr",
     "output_type": "stream",
     "text": [
      "/home/tom/anaconda3/envs/p37/lib/python3.7/site-packages/theano/tensor/subtensor.py:2197: FutureWarning: Using a non-tuple sequence for multidimensional indexing is deprecated; use `arr[tuple(seq)]` instead of `arr[seq]`. In the future this will be interpreted as an array index, `arr[np.array(seq)]`, which will result either in an error or a different result.\n",
      "  rval = inputs[0].__getitem__(inputs[1:])\n",
      "/home/tom/anaconda3/envs/p37/lib/python3.7/site-packages/pymc3/tuning/starting.py:61: UserWarning: find_MAP should not be used to initialize the NUTS sampler, simply call pymc3.sample() and it will automatically initialize NUTS in a better way.\n",
      "  warnings.warn('find_MAP should not be used to initialize the NUTS sampler, simply call pymc3.sample() and it will automatically initialize NUTS in a better way.')\n",
      "  0%|          | 0/5000 [00:00<?, ?it/s]/home/tom/anaconda3/envs/p37/lib/python3.7/site-packages/theano/tensor/subtensor.py:2197: FutureWarning: Using a non-tuple sequence for multidimensional indexing is deprecated; use `arr[tuple(seq)]` instead of `arr[seq]`. In the future this will be interpreted as an array index, `arr[np.array(seq)]`, which will result either in an error or a different result.\n",
      "  rval = inputs[0].__getitem__(inputs[1:])\n",
      "logp = -22,696, ||grad|| = 13.818: 100%|██████████| 26/26 [00:00<00:00, 87.25it/s]  \n",
      "/home/tom/anaconda3/envs/p37/lib/python3.7/site-packages/theano/tensor/subtensor.py:2197: FutureWarning: Using a non-tuple sequence for multidimensional indexing is deprecated; use `arr[tuple(seq)]` instead of `arr[seq]`. In the future this will be interpreted as an array index, `arr[np.array(seq)]`, which will result either in an error or a different result.\n",
      "  rval = inputs[0].__getitem__(inputs[1:])\n",
      "/home/tom/anaconda3/envs/p37/lib/python3.7/site-packages/pymc3/tuning/starting.py:61: UserWarning: find_MAP should not be used to initialize the NUTS sampler, simply call pymc3.sample() and it will automatically initialize NUTS in a better way.\n",
      "  warnings.warn('find_MAP should not be used to initialize the NUTS sampler, simply call pymc3.sample() and it will automatically initialize NUTS in a better way.')\n",
      "  0%|          | 0/5000 [00:00<?, ?it/s]/home/tom/anaconda3/envs/p37/lib/python3.7/site-packages/theano/tensor/subtensor.py:2197: FutureWarning: Using a non-tuple sequence for multidimensional indexing is deprecated; use `arr[tuple(seq)]` instead of `arr[seq]`. In the future this will be interpreted as an array index, `arr[np.array(seq)]`, which will result either in an error or a different result.\n",
      "  rval = inputs[0].__getitem__(inputs[1:])\n",
      "logp = -22,628, ||grad|| = 13.476: 100%|██████████| 31/31 [00:00<00:00, 96.05it/s]  \n",
      "/home/tom/anaconda3/envs/p37/lib/python3.7/site-packages/pymc3/tuning/starting.py:61: UserWarning: find_MAP should not be used to initialize the NUTS sampler, simply call pymc3.sample() and it will automatically initialize NUTS in a better way.\n",
      "  warnings.warn('find_MAP should not be used to initialize the NUTS sampler, simply call pymc3.sample() and it will automatically initialize NUTS in a better way.')\n",
      "  0%|          | 0/5000 [00:00<?, ?it/s]/home/tom/anaconda3/envs/p37/lib/python3.7/site-packages/theano/tensor/subtensor.py:2197: FutureWarning: Using a non-tuple sequence for multidimensional indexing is deprecated; use `arr[tuple(seq)]` instead of `arr[seq]`. In the future this will be interpreted as an array index, `arr[np.array(seq)]`, which will result either in an error or a different result.\n",
      "  rval = inputs[0].__getitem__(inputs[1:])\n",
      "logp = -22,615, ||grad|| = 445.47: 100%|██████████| 109/109 [00:01<00:00, 70.71it/s]  \n"
     ]
    }
   ],
   "source": [
    "def build_model(mask=None, start=None):\n",
    "    if mask is None:\n",
    "        mask = np.ones(len(x), dtype=bool)\n",
    "    with pm.Model() as model:\n",
    "\n",
    "        # Parameters for the stellar properties\n",
    "        mean = pm.Normal(\"mean\", mu=0.0, sd=10.0)\n",
    "        u_star = xo.distributions.QuadLimbDark(\"u_star\",\n",
    "                                              testval=np.array([0.3, 0.2]))\n",
    "        \n",
    "        # Stellar parameters from Kostov et al (2018)\n",
    "        R_star_kostov = 0.291, 0.025\n",
    "#         M_star_kostov = 0.32, 0.025\n",
    "        Rho_star_kostov = 18.0\n",
    "#         m_star = pm.Normal(\"m_star\", mu=M_star_kostov[0], sd=M_star_kostov[1])\n",
    "        r_star = pm.Normal(\"r_star\", mu=R_star_kostov[0], sd=R_star_kostov[1])\n",
    "\n",
    "        logrho_star = pm.Normal(\"logrho_star\", mu=np.log(Rho_star_kostov), sd=0.1)\n",
    "        rho_star = pm.Deterministic(\"rho_star\", tt.exp(logrho_star))\n",
    "\n",
    "        # Prior to require physical parameters\n",
    "#         pm.Potential(\"m_star_prior\", tt.switch(m_star > 0, 0, -np.inf))\n",
    "        pm.Potential(\"r_star_prior\", tt.switch(r_star > 0, 0, -np.inf))\n",
    "#         pm.Potential(\"rho_star_prior\", tt.switch(rho_star > 0, 0, -np.inf))\n",
    "\n",
    "        # Orbital parameters for the planets\n",
    "        logP = pm.Normal(\"logP\", mu=np.log(bls_periods), sd=0.1, shape=3)\n",
    "        t0 = pm.Normal(\"t0\", mu=bls_t0s, sd=0.1, shape=3)\n",
    "        logror = pm.Normal(\"logror\", mu=np.log(np.sqrt(1e-3)*np.sqrt(bls_depths)),\n",
    "                           sd=2, shape=3)\n",
    "        ror = pm.Deterministic(\"r\", tt.exp(logror))\n",
    "        b_param = pm.Uniform(\"b_param\", lower=[0,0.3,0], upper=[0.8,1,0.8], shape=3)\n",
    "        b = pm.Deterministic(\"b\", b_param * (1 + ror))\n",
    "#         ror, b = xo.distributions.get_joint_radius_impact(\n",
    "#             min_radius=0.01, max_radius=0.3,\n",
    "#             testval_r=np.sqrt(1e-3)*np.sqrt(bls_depths),\n",
    "#             testval_b=[0.1,0.8,0.1])\n",
    "        ecc = pm.Bound(pm.Beta, lower=0.0, upper=0.8)(\"ecc\", alpha=0.867, beta=3.03,\n",
    "                                                       testval=[0.1,0.1,0.1], shape=3)\n",
    "#         ecc = pm.Beta('ecc', alpha=0.867, beta=3.03, testval=[0.03,0.02,0.04], shape=3)\n",
    "        omega = xo.distributions.Angle(\"omega\", shape=3)\n",
    "        \n",
    "        # Log-uniform prior on ror\n",
    "        pm.Potential(\"ror_prior_lo\", tt.switch(tt.all(0.005 < ror), 0.0, -np.inf))\n",
    "        pm.Potential(\"ror_prior_hi\", tt.switch(tt.all(ror < 0.3), 0.0, -np.inf))\n",
    "#         pm.Potential(\"ror_prior\", -tt.log(ror))\n",
    "\n",
    "        # Transit jitter & GP parameters\n",
    "        logs2 = pm.Normal(\"logs2\", mu=np.log(np.var(y[mask])), sd=10)\n",
    "        logS0 = pm.Normal(\"logS0\", mu=np.log(np.var(y[mask])), sd=10)\n",
    "        logw0 = pm.Normal(\"logw0\", mu=np.log(2*np.pi/10), sd=10)\n",
    "\n",
    "        # Tracking planet parameters\n",
    "        period = pm.Deterministic(\"period\", tt.exp(logP))\n",
    "        r_pl = pm.Deterministic(\"r_pl\", r_star * ror)\n",
    "        r_ple = pm.Deterministic(\"r_ple\", (r_star * ror / 0.009155))\n",
    "\n",
    "        # Orbit model\n",
    "        orbit = xo.orbits.KeplerianOrbit(\n",
    "            r_star=r_star, #m_star=m_star,\n",
    "            period=period, t0=t0, b=b,\n",
    "            ecc=ecc, omega=omega,\n",
    "            rho_star=rho_star,\n",
    "            )\n",
    "        \n",
    "        a = pm.Deterministic(\"a\", orbit.a)\n",
    "        aAU = pm.Deterministic(\"aAU\", orbit.a * r_star / 215.9)\n",
    "        pm.Potential(\"ecc_prior\", tt.switch((ecc < 1 - (1/a)), 0, -np.inf))\n",
    "\n",
    "        # Compute the model light curve using starry\n",
    "        light_curves = xo.StarryLightCurve(u_star).get_light_curve(\n",
    "            orbit=orbit, r=r_pl, t=x[mask], texp=texp)*1e3\n",
    "        light_curve = pm.math.sum(light_curves, axis=-1)\n",
    "        pm.Deterministic(\"light_curve\", light_curve)\n",
    "        model.light_curves = light_curves\n",
    "\n",
    "        # GP model for the light curve\n",
    "        kernel = xo.gp.terms.SHOTerm(log_S0=logS0, log_w0=logw0, Q=1/np.sqrt(2))\n",
    "        gp = xo.gp.GP(kernel, x[mask], tt.exp(logs2) + tt.zeros(mask.sum()), J=2)\n",
    "        pm.Potential(\"transit_obs\", gp.log_likelihood(y[mask] - light_curve - mean))\n",
    "        pm.Deterministic(\"gp_pred\", gp.predict())\n",
    "\n",
    "        # Fit for the maximum a posteriori parameters, I've found that I can get\n",
    "        # a better solution by trying different combinations of parameters in turn\n",
    "        if start is None:\n",
    "            start = model.test_point\n",
    "        map_soln = pm.find_MAP(start=start, vars=[logs2, logS0, logw0])\n",
    "#         map_soln = pm.find_MAP(start=map_soln, vars=[model.rb])\n",
    "        map_soln = pm.find_MAP(start=map_soln, vars=[model.logror, model.b_param])\n",
    "        map_soln = pm.find_MAP(start=map_soln)\n",
    "\n",
    "    return model, map_soln\n",
    "\n",
    "model0, map_soln0 = build_model()"
   ]
  },
  {
   "cell_type": "code",
   "execution_count": 10,
   "metadata": {},
   "outputs": [],
   "source": [
    "mod = map_soln0[\"gp_pred\"] + map_soln0[\"mean\"] + map_soln0[\"light_curve\"]\n",
    "resid = y - mod\n",
    "rms = np.sqrt(np.median(resid**2))\n",
    "mask = np.abs(resid) < 4.5 * rms"
   ]
  },
  {
   "cell_type": "code",
   "execution_count": 11,
   "metadata": {},
   "outputs": [
    {
     "name": "stderr",
     "output_type": "stream",
     "text": [
      "/home/tom/anaconda3/envs/p37/lib/python3.7/site-packages/pymc3/tuning/starting.py:61: UserWarning: find_MAP should not be used to initialize the NUTS sampler, simply call pymc3.sample() and it will automatically initialize NUTS in a better way.\n",
      "  warnings.warn('find_MAP should not be used to initialize the NUTS sampler, simply call pymc3.sample() and it will automatically initialize NUTS in a better way.')\n",
      "logp = -22,166, ||grad|| = 361.18: 100%|██████████| 6/6 [00:00<00:00, 95.53it/s]\n",
      "logp = -22,157, ||grad|| = 0.049085: 100%|██████████| 22/22 [00:00<00:00, 97.56it/s]  \n",
      "logp = -22,156, ||grad|| = 151.64: 100%|██████████| 34/34 [00:00<00:00, 72.54it/s]   \n"
     ]
    }
   ],
   "source": [
    "model, map_soln = build_model(mask, map_soln0)"
   ]
  },
  {
   "cell_type": "code",
   "execution_count": 13,
   "metadata": {},
   "outputs": [
    {
     "name": "stdout",
     "output_type": "stream",
     "text": [
      "1367.8107130974502\n"
     ]
    }
   ],
   "source": [
    "np.savetxt('l98-59-s001lc.txt', np.array([x[mask], y[mask]]).T, delimiter=',')\n",
    "print(ref_time)"
   ]
  },
  {
   "cell_type": "code",
   "execution_count": 13,
   "metadata": {},
   "outputs": [],
   "source": [
    "with model:\n",
    "    trace = pm.load_trace('.l98.trace')"
   ]
  },
  {
   "cell_type": "code",
   "execution_count": 14,
   "metadata": {},
   "outputs": [
    {
     "data": {
      "text/html": [
       "<div>\n",
       "<style scoped>\n",
       "    .dataframe tbody tr th:only-of-type {\n",
       "        vertical-align: middle;\n",
       "    }\n",
       "\n",
       "    .dataframe tbody tr th {\n",
       "        vertical-align: top;\n",
       "    }\n",
       "\n",
       "    .dataframe thead th {\n",
       "        text-align: right;\n",
       "    }\n",
       "</style>\n",
       "<table border=\"1\" class=\"dataframe\">\n",
       "  <thead>\n",
       "    <tr style=\"text-align: right;\">\n",
       "      <th></th>\n",
       "      <th>mean</th>\n",
       "      <th>sd</th>\n",
       "      <th>mc_error</th>\n",
       "      <th>hpd_16</th>\n",
       "      <th>hpd_84</th>\n",
       "      <th>n_eff</th>\n",
       "      <th>Rhat</th>\n",
       "    </tr>\n",
       "  </thead>\n",
       "  <tbody>\n",
       "    <tr>\n",
       "      <th>b__0</th>\n",
       "      <td>0.268587</td>\n",
       "      <td>0.187785</td>\n",
       "      <td>0.002652</td>\n",
       "      <td>0.000057</td>\n",
       "      <td>0.335057</td>\n",
       "      <td>4594.653697</td>\n",
       "      <td>1.000288</td>\n",
       "    </tr>\n",
       "    <tr>\n",
       "      <th>b__1</th>\n",
       "      <td>0.830858</td>\n",
       "      <td>0.113880</td>\n",
       "      <td>0.002721</td>\n",
       "      <td>0.818924</td>\n",
       "      <td>0.923918</td>\n",
       "      <td>1819.833623</td>\n",
       "      <td>1.001351</td>\n",
       "    </tr>\n",
       "    <tr>\n",
       "      <th>b__2</th>\n",
       "      <td>0.320188</td>\n",
       "      <td>0.187182</td>\n",
       "      <td>0.002320</td>\n",
       "      <td>0.063535</td>\n",
       "      <td>0.467576</td>\n",
       "      <td>6172.522501</td>\n",
       "      <td>1.000486</td>\n",
       "    </tr>\n",
       "    <tr>\n",
       "      <th>r__0</th>\n",
       "      <td>0.040737</td>\n",
       "      <td>0.001354</td>\n",
       "      <td>0.000015</td>\n",
       "      <td>0.039534</td>\n",
       "      <td>0.041980</td>\n",
       "      <td>5897.796114</td>\n",
       "      <td>1.000272</td>\n",
       "    </tr>\n",
       "    <tr>\n",
       "      <th>r__1</th>\n",
       "      <td>0.043590</td>\n",
       "      <td>0.006280</td>\n",
       "      <td>0.000219</td>\n",
       "      <td>0.040189</td>\n",
       "      <td>0.045859</td>\n",
       "      <td>811.911084</td>\n",
       "      <td>1.000827</td>\n",
       "    </tr>\n",
       "    <tr>\n",
       "      <th>r__2</th>\n",
       "      <td>0.022613</td>\n",
       "      <td>0.001254</td>\n",
       "      <td>0.000013</td>\n",
       "      <td>0.021419</td>\n",
       "      <td>0.023893</td>\n",
       "      <td>9406.626627</td>\n",
       "      <td>1.000215</td>\n",
       "    </tr>\n",
       "    <tr>\n",
       "      <th>t0__0</th>\n",
       "      <td>-0.535579</td>\n",
       "      <td>0.000563</td>\n",
       "      <td>0.000006</td>\n",
       "      <td>-0.536196</td>\n",
       "      <td>-0.535064</td>\n",
       "      <td>9358.609959</td>\n",
       "      <td>0.999944</td>\n",
       "    </tr>\n",
       "    <tr>\n",
       "      <th>t0__1</th>\n",
       "      <td>-5.073224</td>\n",
       "      <td>0.000747</td>\n",
       "      <td>0.000007</td>\n",
       "      <td>-5.073872</td>\n",
       "      <td>-5.072398</td>\n",
       "      <td>13881.577154</td>\n",
       "      <td>1.000289</td>\n",
       "    </tr>\n",
       "    <tr>\n",
       "      <th>t0__2</th>\n",
       "      <td>-1.639982</td>\n",
       "      <td>0.001135</td>\n",
       "      <td>0.000017</td>\n",
       "      <td>-1.640855</td>\n",
       "      <td>-1.638910</td>\n",
       "      <td>4504.828195</td>\n",
       "      <td>1.000794</td>\n",
       "    </tr>\n",
       "    <tr>\n",
       "      <th>period__0</th>\n",
       "      <td>3.690412</td>\n",
       "      <td>0.000223</td>\n",
       "      <td>0.000002</td>\n",
       "      <td>3.690174</td>\n",
       "      <td>3.690633</td>\n",
       "      <td>10918.235996</td>\n",
       "      <td>1.000270</td>\n",
       "    </tr>\n",
       "    <tr>\n",
       "      <th>period__1</th>\n",
       "      <td>7.451362</td>\n",
       "      <td>0.000513</td>\n",
       "      <td>0.000005</td>\n",
       "      <td>7.450830</td>\n",
       "      <td>7.451833</td>\n",
       "      <td>12458.884526</td>\n",
       "      <td>1.000419</td>\n",
       "    </tr>\n",
       "    <tr>\n",
       "      <th>period__2</th>\n",
       "      <td>2.253184</td>\n",
       "      <td>0.000304</td>\n",
       "      <td>0.000004</td>\n",
       "      <td>2.252882</td>\n",
       "      <td>2.253463</td>\n",
       "      <td>7210.064579</td>\n",
       "      <td>1.000274</td>\n",
       "    </tr>\n",
       "    <tr>\n",
       "      <th>r_star</th>\n",
       "      <td>0.290764</td>\n",
       "      <td>0.024905</td>\n",
       "      <td>0.000223</td>\n",
       "      <td>0.267107</td>\n",
       "      <td>0.316675</td>\n",
       "      <td>17009.111922</td>\n",
       "      <td>1.000050</td>\n",
       "    </tr>\n",
       "    <tr>\n",
       "      <th>u_star__0</th>\n",
       "      <td>0.404695</td>\n",
       "      <td>0.251689</td>\n",
       "      <td>0.002334</td>\n",
       "      <td>0.073713</td>\n",
       "      <td>0.581230</td>\n",
       "      <td>10794.046147</td>\n",
       "      <td>1.000064</td>\n",
       "    </tr>\n",
       "    <tr>\n",
       "      <th>u_star__1</th>\n",
       "      <td>0.198787</td>\n",
       "      <td>0.327285</td>\n",
       "      <td>0.003188</td>\n",
       "      <td>-0.186857</td>\n",
       "      <td>0.519725</td>\n",
       "      <td>10902.316238</td>\n",
       "      <td>1.000002</td>\n",
       "    </tr>\n",
       "    <tr>\n",
       "      <th>logw0</th>\n",
       "      <td>0.531435</td>\n",
       "      <td>0.201040</td>\n",
       "      <td>0.002843</td>\n",
       "      <td>0.351667</td>\n",
       "      <td>0.739678</td>\n",
       "      <td>6150.450537</td>\n",
       "      <td>1.000358</td>\n",
       "    </tr>\n",
       "    <tr>\n",
       "      <th>logS0</th>\n",
       "      <td>-3.485483</td>\n",
       "      <td>0.500469</td>\n",
       "      <td>0.006507</td>\n",
       "      <td>-4.055267</td>\n",
       "      <td>-3.120920</td>\n",
       "      <td>7308.612556</td>\n",
       "      <td>1.000376</td>\n",
       "    </tr>\n",
       "    <tr>\n",
       "      <th>logs2</th>\n",
       "      <td>-0.415666</td>\n",
       "      <td>0.010400</td>\n",
       "      <td>0.000089</td>\n",
       "      <td>-0.425609</td>\n",
       "      <td>-0.404929</td>\n",
       "      <td>12861.354352</td>\n",
       "      <td>1.000118</td>\n",
       "    </tr>\n",
       "    <tr>\n",
       "      <th>mean</th>\n",
       "      <td>0.011746</td>\n",
       "      <td>0.049800</td>\n",
       "      <td>0.000461</td>\n",
       "      <td>-0.034467</td>\n",
       "      <td>0.059022</td>\n",
       "      <td>11567.606455</td>\n",
       "      <td>1.000004</td>\n",
       "    </tr>\n",
       "    <tr>\n",
       "      <th>r_ple__0</th>\n",
       "      <td>1.293793</td>\n",
       "      <td>0.118803</td>\n",
       "      <td>0.001090</td>\n",
       "      <td>1.181553</td>\n",
       "      <td>1.415494</td>\n",
       "      <td>13125.480012</td>\n",
       "      <td>1.000182</td>\n",
       "    </tr>\n",
       "    <tr>\n",
       "      <th>r_ple__1</th>\n",
       "      <td>1.384433</td>\n",
       "      <td>0.233336</td>\n",
       "      <td>0.006876</td>\n",
       "      <td>1.214890</td>\n",
       "      <td>1.509992</td>\n",
       "      <td>1119.094265</td>\n",
       "      <td>1.000399</td>\n",
       "    </tr>\n",
       "    <tr>\n",
       "      <th>r_ple__2</th>\n",
       "      <td>0.718198</td>\n",
       "      <td>0.073497</td>\n",
       "      <td>0.000737</td>\n",
       "      <td>0.635375</td>\n",
       "      <td>0.780639</td>\n",
       "      <td>11796.086095</td>\n",
       "      <td>1.000083</td>\n",
       "    </tr>\n",
       "    <tr>\n",
       "      <th>rho_star</th>\n",
       "      <td>17.846623</td>\n",
       "      <td>1.637262</td>\n",
       "      <td>0.018709</td>\n",
       "      <td>16.228807</td>\n",
       "      <td>19.458862</td>\n",
       "      <td>9839.611525</td>\n",
       "      <td>1.000486</td>\n",
       "    </tr>\n",
       "  </tbody>\n",
       "</table>\n",
       "</div>"
      ],
      "text/plain": [
       "                mean        sd  mc_error     hpd_16     hpd_84         n_eff  \\\n",
       "b__0        0.268587  0.187785  0.002652   0.000057   0.335057   4594.653697   \n",
       "b__1        0.830858  0.113880  0.002721   0.818924   0.923918   1819.833623   \n",
       "b__2        0.320188  0.187182  0.002320   0.063535   0.467576   6172.522501   \n",
       "r__0        0.040737  0.001354  0.000015   0.039534   0.041980   5897.796114   \n",
       "r__1        0.043590  0.006280  0.000219   0.040189   0.045859    811.911084   \n",
       "r__2        0.022613  0.001254  0.000013   0.021419   0.023893   9406.626627   \n",
       "t0__0      -0.535579  0.000563  0.000006  -0.536196  -0.535064   9358.609959   \n",
       "t0__1      -5.073224  0.000747  0.000007  -5.073872  -5.072398  13881.577154   \n",
       "t0__2      -1.639982  0.001135  0.000017  -1.640855  -1.638910   4504.828195   \n",
       "period__0   3.690412  0.000223  0.000002   3.690174   3.690633  10918.235996   \n",
       "period__1   7.451362  0.000513  0.000005   7.450830   7.451833  12458.884526   \n",
       "period__2   2.253184  0.000304  0.000004   2.252882   2.253463   7210.064579   \n",
       "r_star      0.290764  0.024905  0.000223   0.267107   0.316675  17009.111922   \n",
       "u_star__0   0.404695  0.251689  0.002334   0.073713   0.581230  10794.046147   \n",
       "u_star__1   0.198787  0.327285  0.003188  -0.186857   0.519725  10902.316238   \n",
       "logw0       0.531435  0.201040  0.002843   0.351667   0.739678   6150.450537   \n",
       "logS0      -3.485483  0.500469  0.006507  -4.055267  -3.120920   7308.612556   \n",
       "logs2      -0.415666  0.010400  0.000089  -0.425609  -0.404929  12861.354352   \n",
       "mean        0.011746  0.049800  0.000461  -0.034467   0.059022  11567.606455   \n",
       "r_ple__0    1.293793  0.118803  0.001090   1.181553   1.415494  13125.480012   \n",
       "r_ple__1    1.384433  0.233336  0.006876   1.214890   1.509992   1119.094265   \n",
       "r_ple__2    0.718198  0.073497  0.000737   0.635375   0.780639  11796.086095   \n",
       "rho_star   17.846623  1.637262  0.018709  16.228807  19.458862   9839.611525   \n",
       "\n",
       "               Rhat  \n",
       "b__0       1.000288  \n",
       "b__1       1.001351  \n",
       "b__2       1.000486  \n",
       "r__0       1.000272  \n",
       "r__1       1.000827  \n",
       "r__2       1.000215  \n",
       "t0__0      0.999944  \n",
       "t0__1      1.000289  \n",
       "t0__2      1.000794  \n",
       "period__0  1.000270  \n",
       "period__1  1.000419  \n",
       "period__2  1.000274  \n",
       "r_star     1.000050  \n",
       "u_star__0  1.000064  \n",
       "u_star__1  1.000002  \n",
       "logw0      1.000358  \n",
       "logS0      1.000376  \n",
       "logs2      1.000118  \n",
       "mean       1.000004  \n",
       "r_ple__0   1.000182  \n",
       "r_ple__1   1.000399  \n",
       "r_ple__2   1.000083  \n",
       "rho_star   1.000486  "
      ]
     },
     "execution_count": 14,
     "metadata": {},
     "output_type": "execute_result"
    }
   ],
   "source": [
    "pm.summary(trace, varnames= ['b', 'r', 't0', 'period', 'r_star', 'u_star',  'logw0', 'logS0',\n",
    "                             'logs2', 'mean', 'r_ple', 'rho_star'], alpha=0.32)"
   ]
  },
  {
   "cell_type": "code",
   "execution_count": 22,
   "metadata": {},
   "outputs": [],
   "source": [
    "samples = pm.trace_to_dataframe(trace)"
   ]
  },
  {
   "cell_type": "code",
   "execution_count": 85,
   "metadata": {},
   "outputs": [],
   "source": [
    "q = np.percentile(samples.loc[:, ['logP__0', 'period__0', 'r__0', 'r_ple__0', 'a__0', 'aAU__0']], [16,50,84], axis=0)"
   ]
  },
  {
   "cell_type": "code",
   "execution_count": 86,
   "metadata": {},
   "outputs": [
    {
     "name": "stdout",
     "output_type": "stream",
     "text": [
      "1.3056762731920744 1.3057354127063634 1.305801466350057\n",
      "3.6901838224437986 3.6904020645759985 3.6906458371300017\n",
      "0.03947324769909409 0.04069919833799361 0.04192332374045155\n",
      "1.1764534670164024 1.2919596764512722 1.4108791051799616\n",
      "6.18827184262528 6.80010273959215 7.419351873559702\n",
      "0.007642048941329823 0.009163538963613585 0.010816552947085679\n"
     ]
    },
    {
     "ename": "IndexError",
     "evalue": "index 6 is out of bounds for axis 1 with size 6",
     "output_type": "error",
     "traceback": [
      "\u001b[0;31m---------------------------------------------------------------------------\u001b[0m",
      "\u001b[0;31mIndexError\u001b[0m                                Traceback (most recent call last)",
      "\u001b[0;32m<ipython-input-86-0c8f21ea0340>\u001b[0m in \u001b[0;36m<module>\u001b[0;34m\u001b[0m\n\u001b[1;32m      1\u001b[0m \u001b[0;32mfor\u001b[0m \u001b[0mi\u001b[0m \u001b[0;32min\u001b[0m \u001b[0mrange\u001b[0m\u001b[0;34m(\u001b[0m\u001b[0;36m7\u001b[0m\u001b[0;34m)\u001b[0m\u001b[0;34m:\u001b[0m\u001b[0;34m\u001b[0m\u001b[0;34m\u001b[0m\u001b[0m\n\u001b[0;32m----> 2\u001b[0;31m     \u001b[0mprint\u001b[0m\u001b[0;34m(\u001b[0m\u001b[0mq\u001b[0m\u001b[0;34m[\u001b[0m\u001b[0;36m0\u001b[0m\u001b[0;34m,\u001b[0m \u001b[0mi\u001b[0m\u001b[0;34m]\u001b[0m\u001b[0;34m,\u001b[0m \u001b[0mq\u001b[0m\u001b[0;34m[\u001b[0m\u001b[0;36m1\u001b[0m\u001b[0;34m,\u001b[0m \u001b[0mi\u001b[0m\u001b[0;34m]\u001b[0m\u001b[0;34m,\u001b[0m \u001b[0mq\u001b[0m\u001b[0;34m[\u001b[0m\u001b[0;36m2\u001b[0m\u001b[0;34m,\u001b[0m \u001b[0mi\u001b[0m\u001b[0;34m]\u001b[0m\u001b[0;34m)\u001b[0m\u001b[0;34m\u001b[0m\u001b[0;34m\u001b[0m\u001b[0m\n\u001b[0m",
      "\u001b[0;31mIndexError\u001b[0m: index 6 is out of bounds for axis 1 with size 6"
     ]
    }
   ],
   "source": [
    "for i in range(7):\n",
    "    print(q[0, i], q[1, i], q[2, i])"
   ]
  },
  {
   "cell_type": "code",
   "execution_count": 91,
   "metadata": {},
   "outputs": [
    {
     "data": {
      "text/plain": [
       "array([[1366.16980464],\n",
       "       [1366.17080157],\n",
       "       [1366.17175562]])"
      ]
     },
     "execution_count": 91,
     "metadata": {},
     "output_type": "execute_result"
    }
   ],
   "source": [
    "np.percentile(samples.loc[:, ['t0__2']], [16,50,84], axis=0) + ref_time"
   ]
  },
  {
   "cell_type": "code",
   "execution_count": 147,
   "metadata": {},
   "outputs": [],
   "source": [
    "def get_ar(rho,period):\n",
    "    \"\"\" gets a/R* from period and mean stellar density\"\"\"\n",
    "    G = 6.67E-11\n",
    "    rho_SI = rho * 1000.\n",
    "    tpi = 3. * np.pi\n",
    "    period_s = period * 86400.\n",
    "    part1 = period_s**2 * G * rho_SI\n",
    "    ar = (part1 / tpi)**(1./3.)\n",
    "    return ar\n",
    "\n",
    "def get_insol(teff, ars):\n",
    "    return (teff/5778)**4 * (215.1/ars)**2"
   ]
  },
  {
   "cell_type": "code",
   "execution_count": 103,
   "metadata": {},
   "outputs": [
    {
     "data": {
      "text/plain": [
       "array([0.0457786 , 0.05030617, 0.05488683])"
      ]
     },
     "execution_count": 103,
     "metadata": {},
     "output_type": "execute_result"
    }
   ],
   "source": [
    "np.percentile(get_ar(samples.loc[:, 'rho_star'], samples.loc[:, 'period__1']) *\n",
    "              samples.loc[:, 'r_star'] / 215.9, [16,50,84])"
   ]
  },
  {
   "cell_type": "code",
   "execution_count": 189,
   "metadata": {},
   "outputs": [
    {
     "data": {
      "text/plain": [
       "array([3.71224913, 4.45505882, 5.33216863])"
      ]
     },
     "execution_count": 189,
     "metadata": {},
     "output_type": "execute_result"
    }
   ],
   "source": [
    "teff = np.random.normal(3500,150,size=samples.loc[:, 'rho_star'].shape[0])\n",
    "np.percentile(get_insol(teff, get_ar(samples.loc[:, 'rho_star'], samples.loc[:, 'period__1'])),\n",
    "              [16,50,84])"
   ]
  },
  {
   "cell_type": "code",
   "execution_count": 146,
   "metadata": {},
   "outputs": [
    {
     "name": "stdout",
     "output_type": "stream",
     "text": [
      "2.3987690077442667\n"
     ]
    }
   ],
   "source": [
    "with model:\n",
    "    orbit = xo.orbits.KeplerianOrbit(\n",
    "                r_star=0.117,\n",
    "                period=1.51, t0=0, b=0.,\n",
    "                rho_star=71.5, ecc=0., omega=0)\n",
    "    print(xo.eval_in_model(orbit.a))"
   ]
  },
  {
   "cell_type": "code",
   "execution_count": 15,
   "metadata": {},
   "outputs": [
    {
     "data": {
      "image/png": "[encoded data removed]",
      "text/plain": [
       "<Figure size 576x576 with 3 Axes>"
      ]
     },
     "metadata": {
      "needs_background": "light"
     },
     "output_type": "display_data"
    }
   ],
   "source": [
    "# Compute the GP prediction\n",
    "gp_mod = np.median(trace[\"gp_pred\"] , axis=0)\n",
    "\n",
    "pletter = ['b', 'c', 'd']\n",
    "fig,  axes = plt.subplots(3,1, figsize=[8, 8])\n",
    "for i, pnum in enumerate([2,0,1]):\n",
    "    ax1 = axes[i]\n",
    "    # Get the posterior median orbital parameters\n",
    "    p = np.median(trace[\"period\"][:,pnum])\n",
    "    t0 = np.median(trace['t0'][:,pnum])\n",
    "\n",
    "    # Plot the folded data\n",
    "\n",
    "    x_fold = (x[mask] - t0 + 0.5*p) % p - 0.5*p\n",
    "    ax1.plot(x_fold * 24., y[mask] - gp_mod, \".k\", label=\"data\",\n",
    "             alpha=0.5, zorder=-1000, mec=\"none\")\n",
    "\n",
    "    # Plot the folded model\n",
    "    inds = np.argsort(x_fold)\n",
    "    inds = inds[np.abs(x_fold)[inds] < 0.3]\n",
    "    pred = np.add(trace['mean'], trace[\"light_curve\"][:, inds].T ).T\n",
    "    pred = np.percentile(pred, [5, 50, 95], axis=0)\n",
    "    ax1.plot(x_fold[inds] * 24., pred[1], color=\"C1\", label=\"model\")\n",
    "    art = ax1.fill_between(x_fold[inds] * 24., pred[0], pred[2], color=\"C1\", alpha=0.3,\n",
    "                           zorder=1000)\n",
    "    art.set_edgecolor(\"none\")\n",
    "\n",
    "    # Annotate the plot with the planet's period\n",
    "#     txt = \"period = {0:.5f} +/- {1:.5f} days\".format(\n",
    "#         np.mean(trace[\"period\"][:,pnum]), np.std(trace[\"period\"][:,pnum]))\n",
    "\n",
    "#     ax1.annotate(txt, (0, 0.8), xycoords=\"axes fraction\",\n",
    "#                  xytext=(5, 5), textcoords=\"offset points\",\n",
    "#                  ha=\"left\", va=\"bottom\", fontsize=12)\n",
    "#     txt = \"radius = {0:.2f} +/- {1:.2f} $R_\\oplus$\".format(\n",
    "#         np.mean(trace[\"r_ple\"][:,pnum]), np.std(trace[\"r_ple\"][:,pnum]))\n",
    "#     ax1.annotate(txt, (0.6, 0.8), xycoords=\"axes fraction\",\n",
    "#                  xytext=(5, 5), textcoords=\"offset points\",\n",
    "#                  ha=\"left\", va=\"bottom\", fontsize=12)\n",
    "    ax1.annotate('L98-59 ' + pletter[i], (0., 0.8), xycoords=\"axes fraction\",\n",
    "                 xytext=(5, 5), textcoords=\"offset points\",\n",
    "                 ha=\"left\", va=\"bottom\", fontsize=12, weight='bold')\n",
    "\n",
    "\n",
    "    ax1.legend(fontsize=10, loc=4)\n",
    "    ax1.set_xlabel(\"time since transit [hours]\")\n",
    "    ax1.set_ylabel(\"de-trended flux (ppt)\")\n",
    "    ax1.set_xlim(-3, 3);\n",
    "    ax1.set_ylim(-3, 3);\n",
    "\n",
    "plt.tight_layout()\n",
    "# plt.savefig('l98-transit-plot3.png', dpi=200)"
   ]
  },
  {
   "cell_type": "code",
   "execution_count": 159,
   "metadata": {},
   "outputs": [
    {
     "data": {
      "text/plain": [
       "20000"
      ]
     },
     "execution_count": 159,
     "metadata": {},
     "output_type": "execute_result"
    }
   ],
   "source": [
    "samples.loc[:, 'rho_star'].shape[0]"
   ]
  },
  {
   "cell_type": "code",
   "execution_count": 15,
   "metadata": {},
   "outputs": [
    {
     "data": {
      "image/png": "[encoded data removed]",
      "text/plain": [
       "<Figure size 720x432 with 2 Axes>"
      ]
     },
     "metadata": {
      "needs_background": "light"
     },
     "output_type": "display_data"
    }
   ],
   "source": [
    "def plot_light_curve(model, soln, mask=None):\n",
    "    if mask is None:\n",
    "        mask = np.ones(len(x), dtype=bool)\n",
    "\n",
    "    fig, axes = plt.subplots(2, 1, figsize=(10, 6), sharex=True, sharey=True)\n",
    "\n",
    "    ax = axes[0]\n",
    "    ax.plot(x[mask] + ref_time, y[mask], \"k\", label=\"data\")\n",
    "    gp_mod = xo.utils.eval_in_model(model.gp_pred, soln, model=model)\n",
    "    gp_mod += soln[\"mean\"]\n",
    "    ax.plot(x[mask] + ref_time, gp_mod, color=\"C2\", label=\"gp model\")\n",
    "    ax.legend(fontsize=10, ncol=2)\n",
    "    ax.set_ylabel(\"relative flux [ppt]\")\n",
    "    ax.set_ylim(-5, 3)\n",
    "\n",
    "    ax = axes[1]\n",
    "    ax.plot(x[mask] + ref_time, y[mask] - gp_mod, \"k\", label=\"de-trended data\")\n",
    "    light_curves = xo.utils.eval_in_model(model.light_curves, soln, model=model)\n",
    "    for i, l in enumerate([\"TOI-175.01\", \"TOI-175.02\", 'TOI-175.03']):\n",
    "        mod = light_curves[:, i]\n",
    "        ax.plot(x[mask] + ref_time, mod, label=\"planet {0}\".format(l))\n",
    "    ax.legend(fontsize=10, loc=3, ncol=4)\n",
    "    ax.set_ylabel(\"de-trended flux [ppt]\")\n",
    "    ax.set_ylim(-5, 3)\n",
    "\n",
    "#     ax = axes[2]\n",
    "#     mod = gp_mod + np.sum(light_curves, axis=-1)\n",
    "#     ax.plot(x[mask], y[mask] - mod, \"k\")\n",
    "#     ax.axhline(0, color=\"#aaaaaa\", lw=1)\n",
    "#     ax.set_ylabel(\"residuals [ppt]\")\n",
    "    ax.set_xlim(x[mask].min() + ref_time, x[mask].max() + ref_time)\n",
    "    ax.set_xlabel(\"BJD - 2457000\")\n",
    "    ax.set_ylim(-5, 3)\n",
    "    fig.tight_layout()\n",
    "    return fig\n",
    "    \n",
    "fig = plot_light_curve(model, map_soln, mask);\n",
    "fig.savefig('allplanets.png', dpi=200)"
   ]
  },
  {
   "cell_type": "code",
   "execution_count": 190,
   "metadata": {},
   "outputs": [
    {
     "data": {
      "text/plain": [
       "(0.7428096899999996, 0.8771098100000003)"
      ]
     },
     "execution_count": 190,
     "metadata": {},
     "output_type": "execute_result"
    }
   ],
   "source": [
    "4.45505882-3.71224913, 5.33216863-4.45505882"
   ]
  },
  {
   "cell_type": "code",
   "execution_count": 15,
   "metadata": {},
   "outputs": [
    {
     "data": {
      "text/plain": [
       "array([[0., 0., 0., ..., 0., 0., 0.],\n",
       "       [0., 0., 0., ..., 0., 0., 0.],\n",
       "       [0., 0., 0., ..., 0., 0., 0.],\n",
       "       ...,\n",
       "       [0., 0., 0., ..., 0., 0., 0.],\n",
       "       [0., 0., 0., ..., 0., 0., 0.],\n",
       "       [0., 0., 0., ..., 0., 0., 0.]])"
      ]
     },
     "execution_count": 15,
     "metadata": {},
     "output_type": "execute_result"
    }
   ],
   "source": [
    "trace[\"light_curve\"]"
   ]
  },
  {
   "cell_type": "code",
   "execution_count": 21,
   "metadata": {},
   "outputs": [
    {
     "data": {
      "image/png": "[encoded data removed]",
      "text/plain": [
       "<Figure size 432x288 with 1 Axes>"
      ]
     },
     "metadata": {
      "needs_background": "light"
     },
     "output_type": "display_data"
    }
   ],
   "source": [
    "for i, pnum in enumerate([2,0,1]):\n",
    "    p = np.median(trace[\"period\"][:,pnum])\n",
    "    t0 = np.median(trace['t0'][:,pnum])\n",
    "\n",
    "    x_fold = (x[mask] - t0 + 0.5*p) % p - 0.5*p\n",
    "    \n",
    "    inds = np.argsort(x_fold)\n",
    "    inds = inds[np.abs(x_fold)[inds] < 0.3]\n",
    "    pred = trace[\"light_curve\"][:, inds]\n",
    "    pred = np.percentile(pred, [5, 50, 95], axis=0)\n",
    "    plt.scatter(x_fold[inds] * 24., pred[1], label=\"model\")\n",
    "#     plt.xlim(0,1)\n",
    "    np.savetxt('planet{}-forknicole.csv'.format(i), np.array(\n",
    "        [x_fold[inds][np.abs(x_fold[inds]) < 4], pred[1][np.abs(x_fold[inds]) < 4]]).T,\n",
    "              delimiter=',')"
   ]
  },
  {
   "cell_type": "code",
   "execution_count": 18,
   "metadata": {},
   "outputs": [
    {
     "data": {
      "text/plain": [
       "array([-0.29976955, -0.29973747, -0.29966732, ...,  0.29886633,\n",
       "        0.2989346 ,  0.29899743])"
      ]
     },
     "execution_count": 18,
     "metadata": {},
     "output_type": "execute_result"
    }
   ],
   "source": [
    "x_fold[inds][np.abs(x_fold[inds]) < 4], "
   ]
  },
  {
   "cell_type": "code",
   "execution_count": 19,
   "metadata": {},
   "outputs": [
    {
     "data": {
      "text/plain": [
       "(4721,)"
      ]
     },
     "execution_count": 19,
     "metadata": {},
     "output_type": "execute_result"
    }
   ],
   "source": []
  },
  {
   "cell_type": "code",
   "execution_count": 16,
   "metadata": {},
   "outputs": [
    {
     "data": {
      "text/plain": [
       "{'mean': array(0.00769076),\n",
       " 'u_star_quadlimbdark__': array([-1.10342789, -0.84845122]),\n",
       " 'r_star': array(0.291),\n",
       " 'logrho_star': array(2.72453811),\n",
       " 'logP': array([1.30568929, 2.00836981, 0.81259948]),\n",
       " 't0': array([-0.53609796, -5.07304732, -1.64429629]),\n",
       " 'logror': array([-3.1935069 , -3.14907598, -3.68594956]),\n",
       " 'b_param_interval__': array([-8.21344184,  1.17280329,  1.73787183]),\n",
       " 'ecc_interval__': array([-1.99650333, -1.9454827 , -1.94182379]),\n",
       " 'omega_angle__': array([[ 1.30158638e-08, -4.78195974e-08,  6.15118201e-08],\n",
       "        [ 1.00000000e+00,  1.00000000e+00,  1.00000000e+00]]),\n",
       " 'logs2': array(-0.41557482),\n",
       " 'logS0': array(-3.71803952),\n",
       " 'logw0': array(0.60200341),\n",
       " 'u_star': array([0.2992167 , 0.19988065]),\n",
       " 'rho_star': array(15.2493688),\n",
       " 'r': array([0.04102774, 0.04289174, 0.02507335]),\n",
       " 'b_param': array([2.16730406e-04, 8.34555945e-01, 6.80333237e-01]),\n",
       " 'b': array([2.25622364e-04, 8.70351502e-01, 6.97391474e-01]),\n",
       " 'ecc': array([0.09565643, 0.10003741, 0.1003581 ]),\n",
       " 'omega': array([1.57079631, 1.57079637, 1.57079627]),\n",
       " 'period': array([3.69023187, 7.45116062, 2.25375899]),\n",
       " 'r_pl': array([0.01193907, 0.0124815 , 0.00729635]),\n",
       " 'r_ple': array([1.30410396, 1.363353  , 0.79697938]),\n",
       " 'a': array([ 6.46738384, 10.33178794,  4.65548053]),\n",
       " 'aAU': array([0.00871704, 0.01392566, 0.00627487]),\n",
       " 'light_curve': array([0., 0., 0., ..., 0., 0., 0.]),\n",
       " 'gp_pred': array([ 0.04173621,  0.04174493,  0.04176167, ..., -0.01944095,\n",
       "        -0.01866173, -0.01788518])}"
      ]
     },
     "execution_count": 16,
     "metadata": {},
     "output_type": "execute_result"
    }
   ],
   "source": [
    "map_soln"
   ]
  },
  {
   "cell_type": "code",
   "execution_count": null,
   "metadata": {},
   "outputs": [],
   "source": []
  }
 ],
 "metadata": {
  "kernelspec": {
   "display_name": "Python 3",
   "language": "python",
   "name": "python3"
  },
  "language_info": {
   "codemirror_mode": {
    "name": "ipython",
    "version": 3
   },
   "file_extension": ".py",
   "mimetype": "text/x-python",
   "name": "python",
   "nbconvert_exporter": "python",
   "pygments_lexer": "ipython3",
   "version": "3.7.1"
  }
 },
 "nbformat": 4,
 "nbformat_minor": 2
}
