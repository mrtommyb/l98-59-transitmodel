{
 "cells": [
  {
   "cell_type": "code",
   "execution_count": null,
   "metadata": {},
   "outputs": [],
   "source": [
    "%matplotlib inline"
   ]
  },
  {
   "cell_type": "code",
   "execution_count": null,
   "metadata": {},
   "outputs": [],
   "source": [
    "%run notebook_setup"
   ]
  },
  {
   "cell_type": "markdown",
   "metadata": {},
   "source": [
    "# Case study: K2-24, putting it all together\n",
    "\n",
    "In this tutorial, we will combine many of the previous tutorials to perform a fit of the K2-24 system using the K2 transit data and the RVs from [Petigura et al. (2016)](https://arxiv.org/abs/1511.04497).\n",
    "This is the same system that we fit in the :ref:`rv` tutorial and we'll combine that model with the transit model from the :ref:`transit` tutorial and the Gaussian Process noise model from the :ref:`stellar-variability` tutorial.\n",
    "\n",
    "## Datasets and initializations\n",
    "\n",
    "To get started, let's download the relevant datasets.\n",
    "First, the transit light curve from [Everest](https://rodluger.github.io/everest/):"
   ]
  },
  {
   "cell_type": "code",
   "execution_count": 3,
   "metadata": {},
   "outputs": [
    {
     "name": "stderr",
     "output_type": "stream",
     "text": [
      "/home/tom/anaconda3/envs/p37/lib/python3.7/site-packages/scipy/signal/_arraytools.py:45: FutureWarning: Using a non-tuple sequence for multidimensional indexing is deprecated; use `arr[tuple(seq)]` instead of `arr[seq]`. In the future this will be interpreted as an array index, `arr[np.array(seq)]`, which will result either in an error or a different result.\n",
      "  b = a[a_slice]\n"
     ]
    },
    {
     "data": {
      "image/png": "[encoded data removed]",
      "text/plain": [
       "<Figure size 432x288 with 1 Axes>"
      ]
     },
     "metadata": {
      "needs_background": "light"
     },
     "output_type": "display_data"
    }
   ],
   "source": [
    "import numpy as np\n",
    "import matplotlib.pyplot as plt\n",
    "\n",
    "from astropy.io import fits\n",
    "from scipy.signal import savgol_filter\n",
    "\n",
    "# Download the data\n",
    "lc_url = \"https://archive.stsci.edu/hlsps/everest/v2/c02/203700000/71098/hlsp_everest_k2_llc_203771098-c02_kepler_v2.0_lc.fits\"\n",
    "with fits.open(lc_url) as hdus:\n",
    "    lc = hdus[1].data\n",
    "    lc_hdr = hdus[1].header\n",
    "\n",
    "# Work out the exposure time\n",
    "texp = lc_hdr[\"FRAMETIM\"] * lc_hdr[\"NUM_FRM\"]\n",
    "texp /= 60.0 * 60.0 * 24.0\n",
    "\n",
    "# Mask bad data\n",
    "m = (np.arange(len(lc)) > 100) & np.isfinite(lc[\"FLUX\"]) & np.isfinite(lc[\"TIME\"])\n",
    "bad_bits=[1, 2, 3, 4, 5, 6, 7, 8, 9, 11, 12, 13, 14, 16, 17]\n",
    "qual = lc[\"QUALITY\"]\n",
    "for b in bad_bits:\n",
    "    m &= qual & 2 ** (b - 1) == 0\n",
    "\n",
    "# Convert to parts per thousand\n",
    "x = lc[\"TIME\"][m]\n",
    "y = lc[\"FLUX\"][m]\n",
    "mu = np.median(y)\n",
    "y = (y / mu - 1) * 1e3\n",
    "\n",
    "# Identify outliers\n",
    "m = np.ones(len(y), dtype=bool)\n",
    "for i in range(10):\n",
    "    y_prime = np.interp(x, x[m], y[m])\n",
    "    smooth = savgol_filter(y_prime, 101, polyorder=3)\n",
    "    resid = y - smooth\n",
    "    sigma = np.sqrt(np.mean(resid**2))\n",
    "    m0 = np.abs(resid) < 3*sigma\n",
    "    if m.sum() == m0.sum():\n",
    "        m = m0\n",
    "        break\n",
    "    m = m0\n",
    "    \n",
    "# Only discard positive outliers\n",
    "m = resid < 3*sigma\n",
    "\n",
    "# Shift the data so that the K2 data start at t=0. This tends to make the fit\n",
    "# better behaved since t0 covaries with period.\n",
    "x_ref = np.min(x[m])\n",
    "x -= x_ref\n",
    "\n",
    "# Plot the data\n",
    "plt.plot(x, y, \"k\", label=\"data\")\n",
    "plt.plot(x, smooth)\n",
    "plt.plot(x[~m], y[~m], \"xr\", label=\"outliers\")\n",
    "plt.legend(fontsize=12)\n",
    "plt.xlim(x.min(), x.max())\n",
    "plt.xlabel(\"time\")\n",
    "plt.ylabel(\"flux\")\n",
    "\n",
    "# Make sure that the data type is consistent\n",
    "x = np.ascontiguousarray(x[m], dtype=np.float64)\n",
    "y = np.ascontiguousarray(y[m], dtype=np.float64)\n",
    "smooth = np.ascontiguousarray(smooth[m], dtype=np.float64)"
   ]
  },
  {
   "cell_type": "markdown",
   "metadata": {},
   "source": [
    "Then the RVs from [RadVel](https://radvel.readthedocs.io):"
   ]
  },
  {
   "cell_type": "code",
   "execution_count": 4,
   "metadata": {},
   "outputs": [
    {
     "data": {
      "image/png": "[encoded data removed]",
      "text/plain": [
       "<Figure size 432x288 with 1 Axes>"
      ]
     },
     "metadata": {
      "needs_background": "light"
     },
     "output_type": "display_data"
    }
   ],
   "source": [
    "import pandas as pd\n",
    "\n",
    "url = \"https://raw.githubusercontent.com/California-Planet-Search/radvel/master/example_data/epic203771098.csv\"\n",
    "data = pd.read_csv(url, index_col=0)\n",
    "\n",
    "# Don't forget to remove the time offset from above!\n",
    "x_rv = np.array(data.t) - x_ref\n",
    "y_rv = np.array(data.vel)\n",
    "yerr_rv = np.array(data.errvel)\n",
    "\n",
    "plt.errorbar(x_rv, y_rv, yerr=yerr_rv, fmt=\".k\")\n",
    "plt.xlabel(\"time [days]\")\n",
    "plt.ylabel(\"radial velocity [m/s]\");"
   ]
  },
  {
   "cell_type": "markdown",
   "metadata": {},
   "source": [
    "We can initialize the transit parameters using [the box least squares periodogram from AstroPy](http://docs.astropy.org/en/latest/stats/bls.html).\n",
    "(Note: you'll need AstroPy v3.1 or more recent to use this feature.)\n",
    "A full discussion of transit detection and vetting is beyond the scope of this tutorial so let's assume that we know that there are two periodic transiting planets in this dataset."
   ]
  },
  {
   "cell_type": "code",
   "execution_count": 5,
   "metadata": {},
   "outputs": [],
   "source": [
    "from astropy.stats import BoxLeastSquares\n",
    "\n",
    "m = np.zeros(len(x), dtype=bool)\n",
    "period_grid = np.exp(np.linspace(np.log(5), np.log(50), 50000))\n",
    "bls_results = []\n",
    "periods = []\n",
    "t0s = []\n",
    "depths = []\n",
    "\n",
    "# Compute the periodogram for each planet by iteratively masking out\n",
    "# transits from the higher signal to noise planets. Here we're assuming\n",
    "# that we know that there are exactly two planets.\n",
    "for i in range(2):\n",
    "    bls = BoxLeastSquares(x[~m], y[~m] - smooth[~m])\n",
    "    bls_power = bls.power(period_grid, 0.1, oversample=20)\n",
    "    bls_results.append(bls_power)\n",
    "    \n",
    "    # Save the highest peak as the planet candidate\n",
    "    index = np.argmax(bls_power.power)\n",
    "    periods.append(bls_power.period[index])\n",
    "    t0s.append(bls_power.transit_time[index])\n",
    "    depths.append(bls_power.depth[index])\n",
    "    \n",
    "    # Mask the data points that are in transit for this candidate\n",
    "    m |= bls.transit_mask(x, periods[-1], 0.5, t0s[-1])"
   ]
  },
  {
   "cell_type": "markdown",
   "metadata": {},
   "source": [
    "Let's plot the initial transit estimates based on these periodograms:"
   ]
  },
  {
   "cell_type": "code",
   "execution_count": 6,
   "metadata": {},
   "outputs": [
    {
     "data": {
      "image/png": "[encoded data removed]",
      "text/plain": [
       "<Figure size 1080x720 with 4 Axes>"
      ]
     },
     "metadata": {
      "needs_background": "light"
     },
     "output_type": "display_data"
    }
   ],
   "source": [
    "fig, axes = plt.subplots(len(bls_results), 2, figsize=(15, 10))\n",
    "\n",
    "for i in range(len(bls_results)):\n",
    "    # Plot the periodogram\n",
    "    ax = axes[i, 0]\n",
    "    ax.axvline(np.log10(periods[i]), color=\"C1\", lw=5, alpha=0.8)\n",
    "    ax.plot(np.log10(bls_results[i].period), bls_results[i].power, \"k\")\n",
    "    ax.annotate(\"period = {0:.4f} d\".format(periods[i]),\n",
    "                (0, 1), xycoords=\"axes fraction\",\n",
    "                xytext=(5, -5), textcoords=\"offset points\",\n",
    "                va=\"top\", ha=\"left\", fontsize=12)\n",
    "    ax.set_ylabel(\"bls power\")\n",
    "    ax.set_yticks([])\n",
    "    ax.set_xlim(np.log10(period_grid.min()), np.log10(period_grid.max()))\n",
    "    if i < len(bls_results) - 1:\n",
    "        ax.set_xticklabels([])\n",
    "    else:\n",
    "        ax.set_xlabel(\"log10(period)\")\n",
    "    \n",
    "    # Plot the folded transit\n",
    "    ax = axes[i, 1]\n",
    "    p = periods[i]\n",
    "    x_fold = (x - t0s[i] + 0.5*p) % p - 0.5*p\n",
    "    m = np.abs(x_fold) < 0.4\n",
    "    ax.plot(x_fold[m], y[m] - smooth[m], \".k\")\n",
    "    \n",
    "    # Overplot the phase binned light curve\n",
    "    bins = np.linspace(-0.41, 0.41, 32)\n",
    "    denom, _ = np.histogram(x_fold, bins)\n",
    "    num, _ = np.histogram(x_fold, bins, weights=y - smooth)\n",
    "    denom[num == 0] = 1.0\n",
    "    ax.plot(0.5*(bins[1:] + bins[:-1]), num / denom, color=\"C1\")\n",
    "\n",
    "    ax.set_xlim(-0.4, 0.4)\n",
    "    ax.set_ylabel(\"relative flux [ppt]\")\n",
    "    if i < len(bls_results) - 1:\n",
    "        ax.set_xticklabels([])\n",
    "    else:\n",
    "        ax.set_xlabel(\"time since transit\")\n",
    "        \n",
    "fig.subplots_adjust(hspace=0.02)"
   ]
  },
  {
   "cell_type": "markdown",
   "metadata": {},
   "source": [
    "The discovery paper for K2-24 ([Petigura et al. (2016)](https://arxiv.org/abs/1511.04497)) includes the following estimates of the stellar mass and radius in Solar units:"
   ]
  },
  {
   "cell_type": "code",
   "execution_count": 7,
   "metadata": {},
   "outputs": [],
   "source": [
    "M_star_petigura = 1.12, 0.05\n",
    "R_star_petigura = 1.21, 0.11"
   ]
  },
  {
   "cell_type": "markdown",
   "metadata": {},
   "source": [
    "Finally, using this stellar mass, we can also estimate the minimum masses of the planets given these transit parameters."
   ]
  },
  {
   "cell_type": "code",
   "execution_count": 8,
   "metadata": {},
   "outputs": [
    {
     "name": "stdout",
     "output_type": "stream",
     "text": [
      "[32.80060146 23.89885976] earthMass\n"
     ]
    }
   ],
   "source": [
    "import exoplanet as xo\n",
    "import astropy.units as u\n",
    "\n",
    "msini = xo.estimate_minimum_mass(periods, x_rv, y_rv, yerr_rv, t0s=t0s, m_star=M_star_petigura[0])\n",
    "msini = msini.to(u.M_earth)\n",
    "print(msini)"
   ]
  },
  {
   "cell_type": "markdown",
   "metadata": {},
   "source": [
    "## A joint transit and radial velocity model in PyMC3\n",
    "\n",
    "Now, let's define our full model in *PyMC3*.\n",
    "There's a lot going on here, but I've tried to comment it and most of it should be familiar from the previous tutorials (:ref:`rv`, :ref:`transit`, :ref:`gp`, and :ref:`stellar-variability`).\n",
    "In this case, I've put the model inside a model \"factory\" function because we'll do some sigma clipping below."
   ]
  },
  {
   "cell_type": "code",
   "execution_count": 9,
   "metadata": {},
   "outputs": [],
   "source": [
    "import pymc3 as pm\n",
    "import theano.tensor as tt\n",
    "\n",
    "t_rv = np.linspace(x_rv.min()-5, x_rv.max()+5, 1000)\n",
    "\n",
    "def build_model(mask=None, start=None):\n",
    "    if mask is None:\n",
    "        mask = np.ones(len(x), dtype=bool)\n",
    "    with pm.Model() as model:\n",
    "\n",
    "        # Parameters for the stellar properties\n",
    "        mean = pm.Normal(\"mean\", mu=0.0, sd=10.0)\n",
    "        u_star = xo.distributions.QuadLimbDark(\"u_star\")\n",
    "        m_star = pm.Normal(\"m_star\", mu=M_star_petigura[0], sd=M_star_petigura[1])\n",
    "        r_star = pm.Normal(\"r_star\", mu=R_star_petigura[0], sd=R_star_petigura[1])\n",
    "\n",
    "        # Prior to require physical parameters\n",
    "        pm.Potential(\"m_star_prior\", tt.switch(m_star > 0, 0, -np.inf))\n",
    "        pm.Potential(\"r_star_prior\", tt.switch(r_star > 0, 0, -np.inf))\n",
    "\n",
    "        # Orbital parameters for the planets\n",
    "        logm = pm.Normal(\"logm\", mu=np.log(msini.value), sd=1, shape=2)\n",
    "        logP = pm.Normal(\"logP\", mu=np.log(periods), sd=1, shape=2)\n",
    "        t0 = pm.Normal(\"t0\", mu=np.array(t0s), sd=1, shape=2)\n",
    "        logr = pm.Normal(\"logr\", mu=0.5*np.log(1e-3*np.array(depths)) + np.log(R_star_petigura[0]),\n",
    "                         sd=1.0, shape=2)\n",
    "        r_pl = pm.Deterministic(\"r_pl\", tt.exp(logr))\n",
    "        ror = pm.Deterministic(\"ror\", r_pl / r_star)\n",
    "        b = pm.Uniform(\"b\", lower=0, upper=1, testval=0.5+np.zeros(2),\n",
    "                       shape=2)\n",
    "        ecc = pm.Uniform(\"ecc\", lower=0, upper=0.99, shape=2,\n",
    "                         testval=np.array([0.1, 0.1]))\n",
    "        omega = xo.distributions.Angle(\"omega\", shape=2, testval=np.zeros(2))\n",
    "\n",
    "        # RV jitter & a quadratic RV trend\n",
    "        logs_rv = pm.Normal(\"logs_rv\", mu=np.log(np.median(yerr_rv)), sd=5)\n",
    "        trend = pm.Normal(\"trend\", mu=0, sd=10.0**-np.arange(3)[::-1], shape=3)\n",
    "\n",
    "        # Transit jitter & GP parameters\n",
    "        logs2 = pm.Normal(\"logs2\", mu=np.log(np.var(y[mask])), sd=10)\n",
    "        logw0_guess = np.log(2*np.pi/10)\n",
    "        logw0 = pm.Normal(\"logw0\", mu=logw0_guess, sd=10)\n",
    "        \n",
    "        # We'll parameterize using the maximum power (S_0 * w_0^4) instead of\n",
    "        # S_0 directly because this removes some of the degeneracies between\n",
    "        # S_0 and omega_0\n",
    "        logpower = pm.Normal(\"logpower\",\n",
    "                             mu=np.log(np.var(y[mask]))+4*logw0_guess,\n",
    "                             sd=10)\n",
    "        logS0 = pm.Deterministic(\"logS0\", logpower - 4 * logw0)\n",
    "\n",
    "        # Tracking planet parameters\n",
    "        period = pm.Deterministic(\"period\", tt.exp(logP))\n",
    "        m_pl = pm.Deterministic(\"m_pl\", tt.exp(logm))\n",
    "\n",
    "        # Orbit model\n",
    "        orbit = xo.orbits.KeplerianOrbit(\n",
    "            r_star=r_star, m_star=m_star,\n",
    "            period=period, t0=t0, b=b, m_planet=m_pl,\n",
    "            ecc=ecc, omega=omega,\n",
    "            m_planet_units=msini.unit)\n",
    "\n",
    "        # Compute the model light curve using starry\n",
    "        light_curves = xo.StarryLightCurve(u_star).get_light_curve(\n",
    "            orbit=orbit, r=r_pl, t=x[mask], texp=texp)*1e3\n",
    "        light_curve = pm.math.sum(light_curves, axis=-1) + mean\n",
    "        pm.Deterministic(\"light_curves\", light_curves)\n",
    "\n",
    "        # GP model for the light curve\n",
    "        kernel = xo.gp.terms.SHOTerm(log_S0=logS0, log_w0=logw0, Q=1/np.sqrt(2))\n",
    "        gp = xo.gp.GP(kernel, x[mask], tt.exp(logs2) + tt.zeros(mask.sum()), J=2)\n",
    "        pm.Potential(\"transit_obs\", gp.log_likelihood(y[mask] - light_curve))\n",
    "        pm.Deterministic(\"gp_pred\", gp.predict())\n",
    "\n",
    "        # Set up the RV model and save it as a deterministic\n",
    "        # for plotting purposes later\n",
    "        vrad = orbit.get_radial_velocity(x_rv)\n",
    "        pm.Deterministic(\"vrad\", vrad)\n",
    "\n",
    "        # Define the background RV model\n",
    "        A = np.vander(x_rv - 0.5*(x_rv.min() + x_rv.max()), 3)\n",
    "        bkg = pm.Deterministic(\"bkg\", tt.dot(A, trend))\n",
    "\n",
    "        # The likelihood for the RVs\n",
    "        rv_model = pm.Deterministic(\"rv_model\", tt.sum(vrad, axis=-1) + bkg)\n",
    "        err = tt.sqrt(yerr_rv**2 + tt.exp(2*logs_rv))\n",
    "        pm.Normal(\"obs\", mu=rv_model, sd=err, observed=y_rv)\n",
    "        \n",
    "        vrad_pred = orbit.get_radial_velocity(t_rv)\n",
    "        pm.Deterministic(\"vrad_pred\", vrad_pred)\n",
    "        A_pred = np.vander(t_rv - 0.5*(x_rv.min() + x_rv.max()), 3)\n",
    "        bkg_pred = pm.Deterministic(\"bkg_pred\", tt.dot(A_pred, trend))\n",
    "        pm.Deterministic(\"rv_model_pred\", tt.sum(vrad_pred, axis=-1) + bkg_pred)\n",
    "\n",
    "        # Fit for the maximum a posteriori parameters, I've found that I can get\n",
    "        # a better solution by trying different combinations of parameters in turn\n",
    "        if start is None:\n",
    "            start = model.test_point\n",
    "        map_soln = xo.optimize(start=start, vars=[trend])\n",
    "        map_soln = xo.optimize(start=map_soln, vars=[logs2])\n",
    "        map_soln = xo.optimize(start=map_soln, vars=[logr, b])\n",
    "        map_soln = xo.optimize(start=map_soln, vars=[logP, t0])\n",
    "        map_soln = xo.optimize(start=map_soln, vars=[logs2, logpower])\n",
    "        map_soln = xo.optimize(start=map_soln, vars=[logw0])\n",
    "        map_soln = xo.optimize(start=map_soln)\n",
    "        map_soln = xo.optimize(start=map_soln, vars=[logm, ecc, omega])\n",
    "        map_soln = xo.optimize(start=map_soln)\n",
    "\n",
    "    return model, map_soln"
   ]
  },
  {
   "cell_type": "code",
   "execution_count": null,
   "metadata": {},
   "outputs": [
    {
     "name": "stderr",
     "output_type": "stream",
     "text": [
      "/home/tom/anaconda3/envs/p37/lib/python3.7/site-packages/theano/tensor/subtensor.py:2197: FutureWarning: Using a non-tuple sequence for multidimensional indexing is deprecated; use `arr[tuple(seq)]` instead of `arr[seq]`. In the future this will be interpreted as an array index, `arr[np.array(seq)]`, which will result either in an error or a different result.\n",
      "  rval = inputs[0].__getitem__(inputs[1:])\n",
      "/home/tom/anaconda3/envs/p37/lib/python3.7/site-packages/theano/tensor/subtensor.py:2197: FutureWarning: Using a non-tuple sequence for multidimensional indexing is deprecated; use `arr[tuple(seq)]` instead of `arr[seq]`. In the future this will be interpreted as an array index, `arr[np.array(seq)]`, which will result either in an error or a different result.\n",
      "  rval = inputs[0].__getitem__(inputs[1:])\n",
      "/home/tom/anaconda3/envs/p37/lib/python3.7/site-packages/theano/tensor/subtensor.py:2197: FutureWarning: Using a non-tuple sequence for multidimensional indexing is deprecated; use `arr[tuple(seq)]` instead of `arr[seq]`. In the future this will be interpreted as an array index, `arr[np.array(seq)]`, which will result either in an error or a different result.\n",
      "  rval = inputs[0].__getitem__(inputs[1:])\n"
     ]
    },
    {
     "name": "stdout",
     "output_type": "stream",
     "text": [
      "success: True\n",
      "initial logp: -8218.553445293412\n",
      "final logp: -8207.471388609516\n"
     ]
    },
    {
     "name": "stderr",
     "output_type": "stream",
     "text": [
      "/home/tom/anaconda3/envs/p37/lib/python3.7/site-packages/theano/tensor/subtensor.py:2197: FutureWarning: Using a non-tuple sequence for multidimensional indexing is deprecated; use `arr[tuple(seq)]` instead of `arr[seq]`. In the future this will be interpreted as an array index, `arr[np.array(seq)]`, which will result either in an error or a different result.\n",
      "  rval = inputs[0].__getitem__(inputs[1:])\n"
     ]
    },
    {
     "name": "stdout",
     "output_type": "stream",
     "text": [
      "success: True\n",
      "initial logp: -8207.471388609516\n",
      "final logp: 2257.4803864342193\n"
     ]
    },
    {
     "name": "stderr",
     "output_type": "stream",
     "text": [
      "/home/tom/anaconda3/envs/p37/lib/python3.7/site-packages/theano/tensor/subtensor.py:2197: FutureWarning: Using a non-tuple sequence for multidimensional indexing is deprecated; use `arr[tuple(seq)]` instead of `arr[seq]`. In the future this will be interpreted as an array index, `arr[np.array(seq)]`, which will result either in an error or a different result.\n",
      "  rval = inputs[0].__getitem__(inputs[1:])\n",
      "/home/tom/anaconda3/envs/p37/lib/python3.7/site-packages/theano/tensor/subtensor.py:2197: FutureWarning: Using a non-tuple sequence for multidimensional indexing is deprecated; use `arr[tuple(seq)]` instead of `arr[seq]`. In the future this will be interpreted as an array index, `arr[np.array(seq)]`, which will result either in an error or a different result.\n",
      "  rval = inputs[0].__getitem__(inputs[1:])\n",
      "/home/tom/anaconda3/envs/p37/lib/python3.7/site-packages/theano/tensor/subtensor.py:2197: FutureWarning: Using a non-tuple sequence for multidimensional indexing is deprecated; use `arr[tuple(seq)]` instead of `arr[seq]`. In the future this will be interpreted as an array index, `arr[np.array(seq)]`, which will result either in an error or a different result.\n",
      "  rval = inputs[0].__getitem__(inputs[1:])\n"
     ]
    },
    {
     "name": "stdout",
     "output_type": "stream",
     "text": [
      "success: False\n",
      "initial logp: 2257.4803864342193\n",
      "final logp: 2733.0689223404943\n"
     ]
    },
    {
     "name": "stderr",
     "output_type": "stream",
     "text": [
      "/home/tom/anaconda3/envs/p37/lib/python3.7/site-packages/theano/tensor/subtensor.py:2197: FutureWarning: Using a non-tuple sequence for multidimensional indexing is deprecated; use `arr[tuple(seq)]` instead of `arr[seq]`. In the future this will be interpreted as an array index, `arr[np.array(seq)]`, which will result either in an error or a different result.\n",
      "  rval = inputs[0].__getitem__(inputs[1:])\n",
      "/home/tom/anaconda3/envs/p37/lib/python3.7/site-packages/theano/tensor/subtensor.py:2197: FutureWarning: Using a non-tuple sequence for multidimensional indexing is deprecated; use `arr[tuple(seq)]` instead of `arr[seq]`. In the future this will be interpreted as an array index, `arr[np.array(seq)]`, which will result either in an error or a different result.\n",
      "  rval = inputs[0].__getitem__(inputs[1:])\n",
      "/home/tom/anaconda3/envs/p37/lib/python3.7/site-packages/theano/tensor/subtensor.py:2197: FutureWarning: Using a non-tuple sequence for multidimensional indexing is deprecated; use `arr[tuple(seq)]` instead of `arr[seq]`. In the future this will be interpreted as an array index, `arr[np.array(seq)]`, which will result either in an error or a different result.\n",
      "  rval = inputs[0].__getitem__(inputs[1:])\n",
      "/home/tom/anaconda3/envs/p37/lib/python3.7/site-packages/theano/tensor/subtensor.py:2197: FutureWarning: Using a non-tuple sequence for multidimensional indexing is deprecated; use `arr[tuple(seq)]` instead of `arr[seq]`. In the future this will be interpreted as an array index, `arr[np.array(seq)]`, which will result either in an error or a different result.\n",
      "  rval = inputs[0].__getitem__(inputs[1:])\n",
      "/home/tom/anaconda3/envs/p37/lib/python3.7/site-packages/theano/tensor/subtensor.py:2197: FutureWarning: Using a non-tuple sequence for multidimensional indexing is deprecated; use `arr[tuple(seq)]` instead of `arr[seq]`. In the future this will be interpreted as an array index, `arr[np.array(seq)]`, which will result either in an error or a different result.\n",
      "  rval = inputs[0].__getitem__(inputs[1:])\n"
     ]
    },
    {
     "name": "stdout",
     "output_type": "stream",
     "text": [
      "success: False\n",
      "initial logp: 2733.0689223404943\n",
      "final logp: 3460.1599190275515\n"
     ]
    },
    {
     "name": "stderr",
     "output_type": "stream",
     "text": [
      "/home/tom/anaconda3/envs/p37/lib/python3.7/site-packages/theano/tensor/subtensor.py:2197: FutureWarning: Using a non-tuple sequence for multidimensional indexing is deprecated; use `arr[tuple(seq)]` instead of `arr[seq]`. In the future this will be interpreted as an array index, `arr[np.array(seq)]`, which will result either in an error or a different result.\n",
      "  rval = inputs[0].__getitem__(inputs[1:])\n",
      "/home/tom/anaconda3/envs/p37/lib/python3.7/site-packages/theano/tensor/subtensor.py:2197: FutureWarning: Using a non-tuple sequence for multidimensional indexing is deprecated; use `arr[tuple(seq)]` instead of `arr[seq]`. In the future this will be interpreted as an array index, `arr[np.array(seq)]`, which will result either in an error or a different result.\n",
      "  rval = inputs[0].__getitem__(inputs[1:])\n",
      "/home/tom/anaconda3/envs/p37/lib/python3.7/site-packages/theano/tensor/subtensor.py:2197: FutureWarning: Using a non-tuple sequence for multidimensional indexing is deprecated; use `arr[tuple(seq)]` instead of `arr[seq]`. In the future this will be interpreted as an array index, `arr[np.array(seq)]`, which will result either in an error or a different result.\n",
      "  rval = inputs[0].__getitem__(inputs[1:])\n"
     ]
    },
    {
     "name": "stdout",
     "output_type": "stream",
     "text": [
      "success: False\n",
      "initial logp: 3460.1599190275515\n",
      "final logp: 4316.988414346571\n"
     ]
    },
    {
     "name": "stderr",
     "output_type": "stream",
     "text": [
      "/home/tom/anaconda3/envs/p37/lib/python3.7/site-packages/theano/tensor/subtensor.py:2197: FutureWarning: Using a non-tuple sequence for multidimensional indexing is deprecated; use `arr[tuple(seq)]` instead of `arr[seq]`. In the future this will be interpreted as an array index, `arr[np.array(seq)]`, which will result either in an error or a different result.\n",
      "  rval = inputs[0].__getitem__(inputs[1:])\n"
     ]
    },
    {
     "name": "stdout",
     "output_type": "stream",
     "text": [
      "success: True\n",
      "initial logp: 4316.988414346571\n",
      "final logp: 4387.115996822759\n"
     ]
    },
    {
     "name": "stderr",
     "output_type": "stream",
     "text": [
      "/home/tom/anaconda3/envs/p37/lib/python3.7/site-packages/theano/tensor/subtensor.py:2197: FutureWarning: Using a non-tuple sequence for multidimensional indexing is deprecated; use `arr[tuple(seq)]` instead of `arr[seq]`. In the future this will be interpreted as an array index, `arr[np.array(seq)]`, which will result either in an error or a different result.\n",
      "  rval = inputs[0].__getitem__(inputs[1:])\n",
      "/home/tom/anaconda3/envs/p37/lib/python3.7/site-packages/theano/tensor/subtensor.py:2197: FutureWarning: Using a non-tuple sequence for multidimensional indexing is deprecated; use `arr[tuple(seq)]` instead of `arr[seq]`. In the future this will be interpreted as an array index, `arr[np.array(seq)]`, which will result either in an error or a different result.\n",
      "  rval = inputs[0].__getitem__(inputs[1:])\n",
      "/home/tom/anaconda3/envs/p37/lib/python3.7/site-packages/theano/tensor/subtensor.py:2197: FutureWarning: Using a non-tuple sequence for multidimensional indexing is deprecated; use `arr[tuple(seq)]` instead of `arr[seq]`. In the future this will be interpreted as an array index, `arr[np.array(seq)]`, which will result either in an error or a different result.\n",
      "  rval = inputs[0].__getitem__(inputs[1:])\n",
      "/home/tom/anaconda3/envs/p37/lib/python3.7/site-packages/theano/tensor/subtensor.py:2197: FutureWarning: Using a non-tuple sequence for multidimensional indexing is deprecated; use `arr[tuple(seq)]` instead of `arr[seq]`. In the future this will be interpreted as an array index, `arr[np.array(seq)]`, which will result either in an error or a different result.\n",
      "  rval = inputs[0].__getitem__(inputs[1:])\n",
      "/home/tom/anaconda3/envs/p37/lib/python3.7/site-packages/theano/tensor/subtensor.py:2197: FutureWarning: Using a non-tuple sequence for multidimensional indexing is deprecated; use `arr[tuple(seq)]` instead of `arr[seq]`. In the future this will be interpreted as an array index, `arr[np.array(seq)]`, which will result either in an error or a different result.\n",
      "  rval = inputs[0].__getitem__(inputs[1:])\n",
      "/home/tom/anaconda3/envs/p37/lib/python3.7/site-packages/theano/tensor/subtensor.py:2197: FutureWarning: Using a non-tuple sequence for multidimensional indexing is deprecated; use `arr[tuple(seq)]` instead of `arr[seq]`. In the future this will be interpreted as an array index, `arr[np.array(seq)]`, which will result either in an error or a different result.\n",
      "  rval = inputs[0].__getitem__(inputs[1:])\n",
      "/home/tom/anaconda3/envs/p37/lib/python3.7/site-packages/theano/tensor/subtensor.py:2197: FutureWarning: Using a non-tuple sequence for multidimensional indexing is deprecated; use `arr[tuple(seq)]` instead of `arr[seq]`. In the future this will be interpreted as an array index, `arr[np.array(seq)]`, which will result either in an error or a different result.\n",
      "  rval = inputs[0].__getitem__(inputs[1:])\n",
      "/home/tom/anaconda3/envs/p37/lib/python3.7/site-packages/theano/tensor/subtensor.py:2197: FutureWarning: Using a non-tuple sequence for multidimensional indexing is deprecated; use `arr[tuple(seq)]` instead of `arr[seq]`. In the future this will be interpreted as an array index, `arr[np.array(seq)]`, which will result either in an error or a different result.\n",
      "  rval = inputs[0].__getitem__(inputs[1:])\n",
      "/home/tom/anaconda3/envs/p37/lib/python3.7/site-packages/theano/tensor/subtensor.py:2197: FutureWarning: Using a non-tuple sequence for multidimensional indexing is deprecated; use `arr[tuple(seq)]` instead of `arr[seq]`. In the future this will be interpreted as an array index, `arr[np.array(seq)]`, which will result either in an error or a different result.\n",
      "  rval = inputs[0].__getitem__(inputs[1:])\n",
      "/home/tom/anaconda3/envs/p37/lib/python3.7/site-packages/theano/tensor/subtensor.py:2197: FutureWarning: Using a non-tuple sequence for multidimensional indexing is deprecated; use `arr[tuple(seq)]` instead of `arr[seq]`. In the future this will be interpreted as an array index, `arr[np.array(seq)]`, which will result either in an error or a different result.\n",
      "  rval = inputs[0].__getitem__(inputs[1:])\n",
      "/home/tom/anaconda3/envs/p37/lib/python3.7/site-packages/theano/tensor/subtensor.py:2197: FutureWarning: Using a non-tuple sequence for multidimensional indexing is deprecated; use `arr[tuple(seq)]` instead of `arr[seq]`. In the future this will be interpreted as an array index, `arr[np.array(seq)]`, which will result either in an error or a different result.\n",
      "  rval = inputs[0].__getitem__(inputs[1:])\n"
     ]
    },
    {
     "name": "stdout",
     "output_type": "stream",
     "text": [
      "success: False\n",
      "initial logp: 4387.115996822759\n",
      "final logp: 4736.821588198208\n"
     ]
    },
    {
     "name": "stderr",
     "output_type": "stream",
     "text": [
      "/home/tom/anaconda3/envs/p37/lib/python3.7/site-packages/theano/tensor/subtensor.py:2197: FutureWarning: Using a non-tuple sequence for multidimensional indexing is deprecated; use `arr[tuple(seq)]` instead of `arr[seq]`. In the future this will be interpreted as an array index, `arr[np.array(seq)]`, which will result either in an error or a different result.\n",
      "  rval = inputs[0].__getitem__(inputs[1:])\n",
      "/home/tom/anaconda3/envs/p37/lib/python3.7/site-packages/theano/tensor/subtensor.py:2197: FutureWarning: Using a non-tuple sequence for multidimensional indexing is deprecated; use `arr[tuple(seq)]` instead of `arr[seq]`. In the future this will be interpreted as an array index, `arr[np.array(seq)]`, which will result either in an error or a different result.\n",
      "  rval = inputs[0].__getitem__(inputs[1:])\n",
      "/home/tom/anaconda3/envs/p37/lib/python3.7/site-packages/theano/tensor/subtensor.py:2197: FutureWarning: Using a non-tuple sequence for multidimensional indexing is deprecated; use `arr[tuple(seq)]` instead of `arr[seq]`. In the future this will be interpreted as an array index, `arr[np.array(seq)]`, which will result either in an error or a different result.\n",
      "  rval = inputs[0].__getitem__(inputs[1:])\n"
     ]
    },
    {
     "name": "stdout",
     "output_type": "stream",
     "text": [
      "success: False\n",
      "initial logp: 4736.821588198208\n",
      "final logp: 4736.8217273790115\n"
     ]
    }
   ],
   "source": [
    "model0, map_soln0 = build_model()"
   ]
  },
  {
   "cell_type": "markdown",
   "metadata": {},
   "source": [
    "Now let's plot the map radial velocity model."
   ]
  },
  {
   "cell_type": "code",
   "execution_count": null,
   "metadata": {},
   "outputs": [],
   "source": [
    "def plot_rv_curve(soln):\n",
    "    fig, axes = plt.subplots(2, 1, figsize=(10, 5), sharex=True)\n",
    "    \n",
    "    ax = axes[0]\n",
    "    ax.errorbar(x_rv, y_rv, yerr=yerr_rv, fmt=\".k\")\n",
    "    ax.plot(t_rv, soln[\"vrad_pred\"], \"--k\", alpha=0.5)\n",
    "    ax.plot(t_rv, soln[\"bkg_pred\"], \":k\", alpha=0.5)\n",
    "    ax.plot(t_rv, soln[\"rv_model_pred\"], label=\"model\")\n",
    "    ax.legend(fontsize=10)\n",
    "    ax.set_ylabel(\"radial velocity [m/s]\")\n",
    "    \n",
    "    ax = axes[1]\n",
    "    err = np.sqrt(yerr_rv**2+np.exp(2*soln[\"logs_rv\"]))\n",
    "    ax.errorbar(x_rv, y_rv - soln[\"rv_model\"], yerr=err, fmt=\".k\")\n",
    "    ax.axhline(0, color=\"k\", lw=1)\n",
    "    ax.set_ylabel(\"residuals [m/s]\")\n",
    "    ax.set_xlim(t_rv.min(), t_rv.max())\n",
    "    ax.set_xlabel(\"time [days]\")\n",
    "    \n",
    "plot_rv_curve(map_soln0)"
   ]
  },
  {
   "cell_type": "markdown",
   "metadata": {},
   "source": [
    "That looks pretty similar to what we got in :ref:`rv`.\n",
    "Now let's also plot the transit model."
   ]
  },
  {
   "cell_type": "code",
   "execution_count": null,
   "metadata": {},
   "outputs": [],
   "source": [
    "def plot_light_curve(soln, mask=None):\n",
    "    if mask is None:\n",
    "        mask = np.ones(len(x), dtype=bool)\n",
    "\n",
    "    fig, axes = plt.subplots(3, 1, figsize=(10, 7), sharex=True)\n",
    "\n",
    "    ax = axes[0]\n",
    "    ax.plot(x[mask], y[mask], \"k\", label=\"data\")\n",
    "    gp_mod = soln[\"gp_pred\"] + soln[\"mean\"]\n",
    "    ax.plot(x[mask], gp_mod, color=\"C2\", label=\"gp model\")\n",
    "    ax.legend(fontsize=10)\n",
    "    ax.set_ylabel(\"relative flux [ppt]\")\n",
    "\n",
    "    ax = axes[1]\n",
    "    ax.plot(x[mask], y[mask] - gp_mod, \"k\", label=\"de-trended data\")\n",
    "    for i, l in enumerate(\"bc\"):\n",
    "        mod = soln[\"light_curves\"][:, i]\n",
    "        ax.plot(x[mask], mod, label=\"planet {0}\".format(l))\n",
    "    ax.legend(fontsize=10, loc=3)\n",
    "    ax.set_ylabel(\"de-trended flux [ppt]\")\n",
    "\n",
    "    ax = axes[2]\n",
    "    mod = gp_mod + np.sum(soln[\"light_curves\"], axis=-1)\n",
    "    ax.plot(x[mask], y[mask] - mod, \"k\")\n",
    "    ax.axhline(0, color=\"#aaaaaa\", lw=1)\n",
    "    ax.set_ylabel(\"residuals [ppt]\")\n",
    "    ax.set_xlim(x[mask].min(), x[mask].max())\n",
    "    ax.set_xlabel(\"time [days]\")\n",
    "    \n",
    "    return fig\n",
    "    \n",
    "plot_light_curve(map_soln0);"
   ]
  },
  {
   "cell_type": "markdown",
   "metadata": {},
   "source": [
    "There are still a few outliers in the light curve and it can be useful to remove those before doing the full fit because both the GP and transit parameters can be sensitive to this.\n",
    "\n",
    "## Sigma clipping\n",
    "\n",
    "To remove the outliers, we'll look at the empirical RMS of the residuals away from the GP + transit model and remove anything that is more than a 7-sigma outlier."
   ]
  },
  {
   "cell_type": "code",
   "execution_count": null,
   "metadata": {},
   "outputs": [],
   "source": [
    "mod = map_soln0[\"gp_pred\"] + map_soln0[\"mean\"] + np.sum(map_soln0[\"light_curves\"], axis=-1)\n",
    "resid = y - mod\n",
    "rms = np.sqrt(np.median(resid**2))\n",
    "mask = np.abs(resid) < 7 * rms\n",
    "\n",
    "plt.plot(x, resid, \"k\", label=\"data\")\n",
    "plt.plot(x[~mask], resid[~mask], \"xr\", label=\"outliers\")\n",
    "plt.axhline(0, color=\"#aaaaaa\", lw=1)\n",
    "plt.ylabel(\"residuals [ppt]\")\n",
    "plt.xlabel(\"time [days]\")\n",
    "plt.legend(fontsize=12, loc=4)\n",
    "plt.xlim(x.min(), x.max());"
   ]
  },
  {
   "cell_type": "markdown",
   "metadata": {},
   "source": [
    "That looks better. Let's re-build our model with this sigma-clipped dataset."
   ]
  },
  {
   "cell_type": "code",
   "execution_count": null,
   "metadata": {},
   "outputs": [],
   "source": [
    "model, map_soln = build_model(mask, map_soln0)\n",
    "plot_light_curve(map_soln, mask);"
   ]
  },
  {
   "cell_type": "markdown",
   "metadata": {},
   "source": [
    "Great! Now we're ready to sample.\n",
    "\n",
    "## Sampling\n",
    "\n",
    "The sampling for this model is the same as for all the previous tutorials, but it takes a bit longer (about 2 hours on my laptop).\n",
    "This is partly because the model is more expensive to compute than the previous ones and partly because there are some non-affine degeneracies in the problem (for example between impact parameter and eccentricity).\n",
    "It might be worth thinking about reparameterizations (in terms of duration instead of eccentricity), but that's beyond the scope of this tutorial.\n",
    "Besides, using more traditional MCMC methods, this would have taken a lot more than 2 hours to get >1000 effective samples!"
   ]
  },
  {
   "cell_type": "code",
   "execution_count": null,
   "metadata": {},
   "outputs": [],
   "source": [
    "np.random.seed(123)\n",
    "sampler = xo.PyMC3Sampler(window=200, start=500, finish=500)\n",
    "with model:\n",
    "    burnin = sampler.tune(tune=4000, start=map_soln,\n",
    "                          step_kwargs=dict(target_accept=0.9),\n",
    "                          chains=4)"
   ]
  },
  {
   "cell_type": "code",
   "execution_count": null,
   "metadata": {},
   "outputs": [],
   "source": [
    "with model:\n",
    "    trace = sampler.sample(draws=2000, chains=4)"
   ]
  },
  {
   "cell_type": "markdown",
   "metadata": {},
   "source": [
    "Let's look at the convergence diagnostics for some of the key parameters:"
   ]
  },
  {
   "cell_type": "code",
   "execution_count": null,
   "metadata": {},
   "outputs": [],
   "source": [
    "pm.summary(trace, varnames=[\"period\", \"r_pl\", \"m_pl\", \"ecc\", \"b\"])"
   ]
  },
  {
   "cell_type": "markdown",
   "metadata": {},
   "source": [
    "As you see, the effective number of samples for the impact parameters and eccentricites are lower than for the other parameters.\n",
    "This is because of the correlations that I mentioned above:"
   ]
  },
  {
   "cell_type": "code",
   "execution_count": null,
   "metadata": {},
   "outputs": [],
   "source": [
    "import corner\n",
    "varnames = [\"b\", \"ecc\"]\n",
    "# varnames = [v.name for v in model.vars]\n",
    "samples = pm.trace_to_dataframe(trace, varnames=varnames)\n",
    "corner.corner(samples);"
   ]
  },
  {
   "cell_type": "markdown",
   "metadata": {},
   "source": [
    "## Phase plots\n",
    "\n",
    "Finally, as in the :ref:`rv` and :ref:`transit` tutorials, we can make folded plots of the transits and the radial velocities and compare to the posterior model predictions. (Note: planets b and c in this tutorial are swapped compared to the labels from [Petigura et al. (2016)](https://arxiv.org/abs/1511.04497))"
   ]
  },
  {
   "cell_type": "code",
   "execution_count": null,
   "metadata": {},
   "outputs": [],
   "source": [
    "for n, letter in enumerate(\"bc\"):\n",
    "    plt.figure()\n",
    "    \n",
    "    # Compute the GP prediction\n",
    "    gp_mod = np.median(trace[\"gp_pred\"] + trace[\"mean\"][:, None], axis=0)\n",
    "\n",
    "    # Get the posterior median orbital parameters\n",
    "    p = np.median(trace[\"period\"][:, n])\n",
    "    t0 = np.median(trace[\"t0\"][:, n])\n",
    "    \n",
    "    # Compute the median of posterior estimate of the contribution from\n",
    "    # the other planet. Then we can remove this from the data to plot\n",
    "    # just the planet we care about.\n",
    "    other = np.median(trace[\"light_curves\"][:, :, (n + 1) % 2], axis=0)\n",
    "\n",
    "    # Plot the folded data\n",
    "    x_fold = (x[mask] - t0 + 0.5*p) % p - 0.5*p\n",
    "    plt.plot(x_fold, y[mask] - gp_mod - other, \".k\", label=\"data\", zorder=-1000)\n",
    "    \n",
    "    # Plot the folded model\n",
    "    inds = np.argsort(x_fold)\n",
    "    inds = inds[np.abs(x_fold)[inds] < 0.3]\n",
    "    pred = trace[\"light_curves\"][:, inds, n]\n",
    "    pred = np.percentile(pred, [16, 50, 84], axis=0)\n",
    "    plt.plot(x_fold[inds], pred[1], color=\"C1\", label=\"model\")\n",
    "    art = plt.fill_between(x_fold[inds], pred[0], pred[2], color=\"C1\", alpha=0.5,\n",
    "                           zorder=1000)\n",
    "    art.set_edgecolor(\"none\")\n",
    "    \n",
    "    # Annotate the plot with the planet's period\n",
    "    txt = \"period = {0:.4f} +/- {1:.4f} d\".format(\n",
    "        np.mean(trace[\"period\"][:, n]), np.std(trace[\"period\"][:, n]))\n",
    "    plt.annotate(txt, (0, 0), xycoords=\"axes fraction\",\n",
    "                 xytext=(5, 5), textcoords=\"offset points\", \n",
    "                 ha=\"left\", va=\"bottom\", fontsize=12)\n",
    "\n",
    "    plt.legend(fontsize=10, loc=4)\n",
    "    plt.xlim(-0.5*p, 0.5*p)\n",
    "    plt.xlabel(\"time since transit [days]\")\n",
    "    plt.ylabel(\"de-trended flux\")\n",
    "    plt.title(\"K2-24{0}\".format(letter));\n",
    "    plt.xlim(-0.3, 0.3)"
   ]
  },
  {
   "cell_type": "code",
   "execution_count": null,
   "metadata": {},
   "outputs": [],
   "source": [
    "for n, letter in enumerate(\"bc\"):    \n",
    "    plt.figure()\n",
    "\n",
    "    # Get the posterior median orbital parameters\n",
    "    p = np.median(trace[\"period\"][:, n])\n",
    "    t0 = np.median(trace[\"t0\"][:, n])\n",
    "    \n",
    "    # Compute the median of posterior estimate of the background RV\n",
    "    # and the contribution from the other planet. Then we can remove\n",
    "    # this from the data to plot just the planet we care about.\n",
    "    other = np.median(trace[\"vrad\"][:, :, (n + 1) % 2], axis=0)\n",
    "    other += np.median(trace[\"bkg\"], axis=0)\n",
    "\n",
    "    # Plot the folded data\n",
    "    x_fold = (x_rv - t0 + 0.5*p) % p - 0.5*p\n",
    "    plt.errorbar(x_fold, y_rv - other, yerr=yerr_rv, fmt=\".k\", label=\"data\")\n",
    "    \n",
    "    # Compute the posterior prediction for the folded RV model for this\n",
    "    # planet\n",
    "    t_fold = (t_rv - t0 + 0.5*p) % p - 0.5*p\n",
    "    inds = np.argsort(t_fold)\n",
    "    pred = np.percentile(trace[\"vrad_pred\"][:, inds, n], [16, 50, 84], axis=0)\n",
    "    plt.plot(t_fold[inds], pred[1], color=\"C1\", label=\"model\")\n",
    "    art = plt.fill_between(t_fold[inds], pred[0], pred[2], color=\"C1\", alpha=0.3)\n",
    "    art.set_edgecolor(\"none\")\n",
    "\n",
    "    plt.legend(fontsize=10)\n",
    "    plt.xlim(-0.5*p, 0.5*p)\n",
    "    plt.xlabel(\"phase [days]\")\n",
    "    plt.ylabel(\"radial velocity [m/s]\")\n",
    "    plt.title(\"K2-24{0}\".format(letter));"
   ]
  },
  {
   "cell_type": "markdown",
   "metadata": {},
   "source": [
    "We can also compute the posterior constraints on the planet densities."
   ]
  },
  {
   "cell_type": "code",
   "execution_count": null,
   "metadata": {},
   "outputs": [],
   "source": [
    "volume = 4/3*np.pi*trace[\"r_pl\"]**3\n",
    "density = u.Quantity(trace[\"m_pl\"] / volume, unit=u.M_earth / u.R_sun**3)\n",
    "density = density.to(u.g / u.cm**3).value\n",
    "\n",
    "for n, letter in enumerate(\"bc\"):    \n",
    "    plt.hist(density[:, n], 25, histtype=\"step\", lw=2,\n",
    "             label=\"K2-24{0}\".format(letter))\n",
    "plt.yticks([])\n",
    "plt.legend(fontsize=12)\n",
    "plt.xlabel(\"density [g/cc]\")\n",
    "plt.ylabel(\"posterior density\");"
   ]
  },
  {
   "cell_type": "markdown",
   "metadata": {},
   "source": [
    "## Citations\n",
    "\n",
    "As described in the :ref:`citation` tutorial, we can use :func:`exoplanet.citations.get_citations_for_model` to construct an acknowledgement and BibTeX listing that includes the relevant citations for this model."
   ]
  },
  {
   "cell_type": "code",
   "execution_count": null,
   "metadata": {},
   "outputs": [],
   "source": [
    "with model:\n",
    "    txt, bib = xo.citations.get_citations_for_model()\n",
    "print(txt)"
   ]
  },
  {
   "cell_type": "code",
   "execution_count": null,
   "metadata": {},
   "outputs": [],
   "source": [
    "print(\"\\n\".join(bib.splitlines()[:10]) + \"\\n...\")"
   ]
  },
  {
   "cell_type": "code",
   "execution_count": null,
   "metadata": {},
   "outputs": [],
   "source": []
  }
 ],
 "metadata": {
  "kernelspec": {
   "display_name": "Python 3",
   "language": "python",
   "name": "python3"
  }
 },
 "nbformat": 4,
 "nbformat_minor": 2
}
